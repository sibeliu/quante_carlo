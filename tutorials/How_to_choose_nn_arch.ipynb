{
 "cells": [
  {
   "cell_type": "code",
   "execution_count": null,
   "id": "e96776a9-0fdb-4d11-9d77-39c03c1c5644",
   "metadata": {
    "tags": []
   },
   "outputs": [],
   "source": [
    "from sklearn.model_selection import cross_val_score\n",
    "import pandas as pd\n",
    "from quante_carlo import quante\n",
    "from sklearn.gaussian_process.kernels import DotProduct, WhiteKernel, RBF, Matern\n",
    "import time\n",
    "import numpy as np\n",
    "import torch\n",
    "from torch import nn"
   ]
  },
  {
   "cell_type": "markdown",
   "id": "1cd431aa-007a-4eb2-8865-2e52f214f767",
   "metadata": {},
   "source": [
    "## This tutorial uses mnist dataset available <a href=\"https://kaggle.com\">here</a>"
   ]
  },
  {
   "cell_type": "markdown",
   "id": "26666ddd-5a79-472c-9a7a-13c768eb1213",
   "metadata": {},
   "source": [
    "keep_thread_id = True caues thread_id number to be passed to evaluation function"
   ]
  },
  {
   "cell_type": "code",
   "execution_count": null,
   "id": "6cc2bbf1-0dba-426e-b4bd-11cbda8c3c0b",
   "metadata": {
    "tags": []
   },
   "outputs": [],
   "source": [
    "if __name__ == '__main__':\n",
    "\n",
    "    \n",
    "    hp_tune = quante.carlo(instance, [[64, 128], [64, 128], [64, 128]], kernel=DotProduct()+ WhiteKernel(), \n",
    "                           n_batches=7, n_processors=4, n_iterations=5, keep_thread_id=True)\n",
    "    p = mp.Pool()\n",
    "    start = time.time()    \n",
    "    session = hp_tune(p)\n",
    "\n",
    "    print(\"{} seconds\".format(round(time.time() - start,2)))\n",
    "    results = p.map(instance, range(4))\n",
    "    p.close()\n",
    "    "
   ]
  },
  {
   "cell_type": "code",
   "execution_count": null,
   "id": "a3a3704a-a948-49f4-9474-5a3a3747eac5",
   "metadata": {},
   "outputs": [],
   "source": []
  }
 ],
 "metadata": {
  "kernelspec": {
   "display_name": "Python [conda env:pytorch]",
   "language": "python",
   "name": "conda-env-pytorch-py"
  },
  "language_info": {
   "codemirror_mode": {
    "name": "ipython",
    "version": 3
   },
   "file_extension": ".py",
   "mimetype": "text/x-python",
   "name": "python",
   "nbconvert_exporter": "python",
   "pygments_lexer": "ipython3",
   "version": "3.12.1"
  }
 },
 "nbformat": 4,
 "nbformat_minor": 5
}
