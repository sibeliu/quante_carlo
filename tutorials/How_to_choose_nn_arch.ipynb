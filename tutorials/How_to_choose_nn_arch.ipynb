{
 "cells": [
  {
   "cell_type": "markdown",
   "id": "a4ad6ad1-9b33-4fe1-b780-02f89f558226",
   "metadata": {
    "tags": []
   },
   "source": [
    "# Tutorial for quante_carlo\n",
    "- <b>quante_carlo</b> is a multiprocess hyperparameter tuning module. \n",
    "- This notebook demonstrates how to use this module to determine the number of neurons to use in a pytorch neural network."
   ]
  },
  {
   "cell_type": "code",
   "execution_count": 3,
   "id": "06025f51-cb7d-4ac9-a6f5-31de9f1395fd",
   "metadata": {
    "tags": []
   },
   "outputs": [],
   "source": [
    "#from sklearn.model_selection import cross_val_score\n",
    "import pandas as pd\n",
    "#from quante_carlo import quante\n",
    "import quante\n",
    "from sklearn.gaussian_process.kernels import DotProduct, WhiteKernel, RBF, Matern\n",
    "import time\n",
    "import numpy as np\n",
    "import torch\n",
    "import multiprocessing as mp\n",
    "from torch import nn"
   ]
  },
  {
   "cell_type": "code",
   "execution_count": 2,
   "id": "f98894b2-2cdb-49f1-a249-31bc1fb2f619",
   "metadata": {
    "tags": []
   },
   "outputs": [
    {
     "name": "stdout",
     "output_type": "stream",
     "text": [
      "/home/ec2-user/SageMaker/projects/quante_carlo/quante_carlo\n"
     ]
    }
   ],
   "source": [
    "cd ../quante_carlo"
   ]
  },
  {
   "cell_type": "code",
   "execution_count": 4,
   "id": "a480942c-0459-4374-b6e3-547e58bac8f1",
   "metadata": {
    "tags": []
   },
   "outputs": [],
   "source": [
    "import worker"
   ]
  },
  {
   "cell_type": "code",
   "execution_count": 14,
   "id": "4c127304-3e8d-456e-814d-0ee77ef8531d",
   "metadata": {
    "tags": []
   },
   "outputs": [
    {
     "data": {
      "text/plain": [
       "4"
      ]
     },
     "execution_count": 14,
     "metadata": {},
     "output_type": "execute_result"
    }
   ],
   "source": [
    "torch.cuda.device_count()"
   ]
  },
  {
   "cell_type": "code",
   "execution_count": 5,
   "id": "d3d0fd2b-df8f-426c-9a1b-5ac43cd4536c",
   "metadata": {
    "tags": []
   },
   "outputs": [],
   "source": [
    "mp.set_start_method('spawn')"
   ]
  },
  {
   "cell_type": "markdown",
   "id": "1cd431aa-007a-4eb2-8865-2e52f214f767",
   "metadata": {},
   "source": [
    "## This tutorial uses mnist dataset available <a href=\"https://www.kaggle.com/code/imdevskp/digits-mnist-classification-using-cnn\">here</a>"
   ]
  },
  {
   "cell_type": "markdown",
   "id": "26666ddd-5a79-472c-9a7a-13c768eb1213",
   "metadata": {},
   "source": [
    "Included with this repository is a file named worked.py. Inside that file is a It's better to put the function you want to tune in a file."
   ]
  },
  {
   "cell_type": "code",
   "execution_count": 9,
   "id": "6cc2bbf1-0dba-426e-b4bd-11cbda8c3c0b",
   "metadata": {
    "tags": []
   },
   "outputs": [
    {
     "ename": "OutOfMemoryError",
     "evalue": "CUDA out of memory. Tried to allocate 24.00 MiB. GPU 3 has a total capacity of 14.58 GiB of which 21.62 MiB is free. Process 504 has 448.00 MiB memory in use. Process 507 has 448.00 MiB memory in use. Process 506 has 448.00 MiB memory in use. Process 505 has 448.00 MiB memory in use. Process 511 has 414.00 MiB memory in use. Process 509 has 414.00 MiB memory in use. Process 508 has 414.00 MiB memory in use. Process 510 has 414.00 MiB memory in use. Process 515 has 384.00 MiB memory in use. Process 512 has 384.00 MiB memory in use. Process 514 has 384.00 MiB memory in use. Process 513 has 384.00 MiB memory in use. Process 517 has 450.00 MiB memory in use. Process 519 has 450.00 MiB memory in use. Process 518 has 450.00 MiB memory in use. Process 516 has 450.00 MiB memory in use. Process 520 has 556.00 MiB memory in use. Process 527 has 556.00 MiB memory in use. Process 526 has 556.00 MiB memory in use. Process 521 has 556.00 MiB memory in use. Process 522 has 432.00 MiB memory in use. Process 534 has 432.00 MiB memory in use. Process 524 has 432.00 MiB memory in use. Process 523 has 432.00 MiB memory in use. Process 535 has 344.00 MiB memory in use. Process 529 has 344.00 MiB memory in use. Process 528 has 344.00 MiB memory in use. Process 525 has 344.00 MiB memory in use. Process 532 has 496.00 MiB memory in use. Process 530 has 496.00 MiB memory in use. Process 531 has 496.00 MiB memory in use. Process 537 has 496.00 MiB memory in use. Including non-PyTorch memory, this process has 260.00 MiB memory in use. Process 539 has 180.00 MiB memory in use. Process 533 has 180.00 MiB memory in use. Process 538 has 180.00 MiB memory in use. Of the allocated memory 99.59 MiB is allocated by PyTorch, and 26.41 MiB is reserved by PyTorch but unallocated. If reserved but unallocated memory is large try setting PYTORCH_CUDA_ALLOC_CONF=expandable_segments:True to avoid fragmentation.  See documentation for Memory Management  (https://pytorch.org/docs/stable/notes/cuda.html#environment-variables)",
     "output_type": "error",
     "traceback": [
      "\u001b[0;31m---------------------------------------------------------------------------\u001b[0m",
      "\u001b[0;31mRemoteTraceback\u001b[0m                           Traceback (most recent call last)",
      "\u001b[0;31mRemoteTraceback\u001b[0m: \n\"\"\"\nTraceback (most recent call last):\n  File \"/home/ec2-user/anaconda3/envs/pytorch_p310/lib/python3.10/multiprocessing/pool.py\", line 125, in worker\n    result = (True, func(*args, **kwds))\n  File \"/home/ec2-user/anaconda3/envs/pytorch_p310/lib/python3.10/multiprocessing/pool.py\", line 48, in mapstar\n    return list(map(*args))\n  File \"/home/ec2-user/SageMaker/projects/quante_carlo/quante_carlo/worker.py\", line 98, in instance\n    pred = model(X)\n  File \"/home/ec2-user/anaconda3/envs/pytorch_p310/lib/python3.10/site-packages/torch/nn/modules/module.py\", line 1511, in _wrapped_call_impl\n    return self._call_impl(*args, **kwargs)\n  File \"/home/ec2-user/anaconda3/envs/pytorch_p310/lib/python3.10/site-packages/torch/nn/modules/module.py\", line 1520, in _call_impl\n    return forward_call(*args, **kwargs)\n  File \"/home/ec2-user/SageMaker/projects/quante_carlo/quante_carlo/worker.py\", line 45, in forward\n    logits = self.stack(x)\n  File \"/home/ec2-user/anaconda3/envs/pytorch_p310/lib/python3.10/site-packages/torch/nn/modules/module.py\", line 1511, in _wrapped_call_impl\n    return self._call_impl(*args, **kwargs)\n  File \"/home/ec2-user/anaconda3/envs/pytorch_p310/lib/python3.10/site-packages/torch/nn/modules/module.py\", line 1520, in _call_impl\n    return forward_call(*args, **kwargs)\n  File \"/home/ec2-user/anaconda3/envs/pytorch_p310/lib/python3.10/site-packages/torch/nn/modules/container.py\", line 217, in forward\n    input = module(input)\n  File \"/home/ec2-user/anaconda3/envs/pytorch_p310/lib/python3.10/site-packages/torch/nn/modules/module.py\", line 1511, in _wrapped_call_impl\n    return self._call_impl(*args, **kwargs)\n  File \"/home/ec2-user/anaconda3/envs/pytorch_p310/lib/python3.10/site-packages/torch/nn/modules/module.py\", line 1520, in _call_impl\n    return forward_call(*args, **kwargs)\n  File \"/home/ec2-user/anaconda3/envs/pytorch_p310/lib/python3.10/site-packages/torch/nn/modules/activation.py\", line 101, in forward\n    return F.relu(input, inplace=self.inplace)\n  File \"/home/ec2-user/anaconda3/envs/pytorch_p310/lib/python3.10/site-packages/torch/nn/functional.py\", line 1473, in relu\n    result = torch.relu(input)\ntorch.cuda.OutOfMemoryError: CUDA out of memory. Tried to allocate 24.00 MiB. GPU 3 has a total capacity of 14.58 GiB of which 21.62 MiB is free. Process 504 has 448.00 MiB memory in use. Process 507 has 448.00 MiB memory in use. Process 506 has 448.00 MiB memory in use. Process 505 has 448.00 MiB memory in use. Process 511 has 414.00 MiB memory in use. Process 509 has 414.00 MiB memory in use. Process 508 has 414.00 MiB memory in use. Process 510 has 414.00 MiB memory in use. Process 515 has 384.00 MiB memory in use. Process 512 has 384.00 MiB memory in use. Process 514 has 384.00 MiB memory in use. Process 513 has 384.00 MiB memory in use. Process 517 has 450.00 MiB memory in use. Process 519 has 450.00 MiB memory in use. Process 518 has 450.00 MiB memory in use. Process 516 has 450.00 MiB memory in use. Process 520 has 556.00 MiB memory in use. Process 527 has 556.00 MiB memory in use. Process 526 has 556.00 MiB memory in use. Process 521 has 556.00 MiB memory in use. Process 522 has 432.00 MiB memory in use. Process 534 has 432.00 MiB memory in use. Process 524 has 432.00 MiB memory in use. Process 523 has 432.00 MiB memory in use. Process 535 has 344.00 MiB memory in use. Process 529 has 344.00 MiB memory in use. Process 528 has 344.00 MiB memory in use. Process 525 has 344.00 MiB memory in use. Process 532 has 496.00 MiB memory in use. Process 530 has 496.00 MiB memory in use. Process 531 has 496.00 MiB memory in use. Process 537 has 496.00 MiB memory in use. Including non-PyTorch memory, this process has 260.00 MiB memory in use. Process 539 has 180.00 MiB memory in use. Process 533 has 180.00 MiB memory in use. Process 538 has 180.00 MiB memory in use. Of the allocated memory 99.59 MiB is allocated by PyTorch, and 26.41 MiB is reserved by PyTorch but unallocated. If reserved but unallocated memory is large try setting PYTORCH_CUDA_ALLOC_CONF=expandable_segments:True to avoid fragmentation.  See documentation for Memory Management  (https://pytorch.org/docs/stable/notes/cuda.html#environment-variables)\n\"\"\"",
      "\nThe above exception was the direct cause of the following exception:\n",
      "\u001b[0;31mOutOfMemoryError\u001b[0m                          Traceback (most recent call last)",
      "Cell \u001b[0;32mIn[9], line 14\u001b[0m\n\u001b[1;32m     12\u001b[0m p \u001b[38;5;241m=\u001b[39m mp\u001b[38;5;241m.\u001b[39mPool()\n\u001b[1;32m     13\u001b[0m start \u001b[38;5;241m=\u001b[39m time\u001b[38;5;241m.\u001b[39mtime()    \n\u001b[0;32m---> 14\u001b[0m session \u001b[38;5;241m=\u001b[39m \u001b[43mhp_tune\u001b[49m\u001b[43m(\u001b[49m\u001b[43mp\u001b[49m\u001b[43m)\u001b[49m\n\u001b[1;32m     16\u001b[0m \u001b[38;5;28mprint\u001b[39m(\u001b[38;5;124m\"\u001b[39m\u001b[38;5;132;01m{}\u001b[39;00m\u001b[38;5;124m seconds\u001b[39m\u001b[38;5;124m\"\u001b[39m\u001b[38;5;241m.\u001b[39mformat(\u001b[38;5;28mround\u001b[39m(time\u001b[38;5;241m.\u001b[39mtime() \u001b[38;5;241m-\u001b[39m start,\u001b[38;5;241m2\u001b[39m)))\n\u001b[1;32m     17\u001b[0m p\u001b[38;5;241m.\u001b[39mclose()\n",
      "File \u001b[0;32m~/SageMaker/projects/quante_carlo/quante_carlo/quante.py:114\u001b[0m, in \u001b[0;36mcarlo.<locals>.qc_tune_nn\u001b[0;34m(p)\u001b[0m\n\u001b[1;32m    112\u001b[0m \u001b[38;5;28;01mfor\u001b[39;00m j \u001b[38;5;129;01min\u001b[39;00m \u001b[38;5;28mrange\u001b[39m(n_iterations):\n\u001b[1;32m    113\u001b[0m     q\u001b[38;5;241m.\u001b[39mget_new_points()\n\u001b[0;32m--> 114\u001b[0m     \u001b[43mq\u001b[49m\u001b[38;5;241;43m.\u001b[39;49m\u001b[43mtest_new_points\u001b[49m\u001b[43m(\u001b[49m\u001b[43mp\u001b[49m\u001b[43m,\u001b[49m\u001b[43m \u001b[49m\u001b[43mother_parameters\u001b[49m\u001b[43m)\u001b[49m\n\u001b[1;32m    115\u001b[0m     iteration_id \u001b[38;5;241m+\u001b[39m\u001b[38;5;241m=\u001b[39m [j\u001b[38;5;241m+\u001b[39m\u001b[38;5;241m1\u001b[39m]\u001b[38;5;241m*\u001b[39mn_processors\n\u001b[1;32m    117\u001b[0m q\u001b[38;5;241m.\u001b[39mset_iteration_id(iteration_id)\n",
      "File \u001b[0;32m~/SageMaker/projects/quante_carlo/quante_carlo/quante.py:72\u001b[0m, in \u001b[0;36mhp_tuning_session.test_new_points\u001b[0;34m(self, p, other_parameters)\u001b[0m\n\u001b[1;32m     69\u001b[0m     parameters[i][\u001b[38;5;124m'\u001b[39m\u001b[38;5;124mhparameters\u001b[39m\u001b[38;5;124m'\u001b[39m] \u001b[38;5;241m=\u001b[39m \u001b[38;5;28mself\u001b[39m\u001b[38;5;241m.\u001b[39mnext_points[i]\n\u001b[1;32m     70\u001b[0m     parameters[i][\u001b[38;5;124m'\u001b[39m\u001b[38;5;124mthread_id\u001b[39m\u001b[38;5;124m'\u001b[39m] \u001b[38;5;241m=\u001b[39m i\n\u001b[0;32m---> 72\u001b[0m \u001b[38;5;28mself\u001b[39m\u001b[38;5;241m.\u001b[39mscores \u001b[38;5;241m=\u001b[39m \u001b[43mp\u001b[49m\u001b[38;5;241;43m.\u001b[39;49m\u001b[43mmap\u001b[49m\u001b[43m(\u001b[49m\u001b[38;5;28;43mself\u001b[39;49m\u001b[38;5;241;43m.\u001b[39;49m\u001b[43mmodel\u001b[49m\u001b[43m,\u001b[49m\u001b[43m \u001b[49m\u001b[43mparameters\u001b[49m\u001b[43m)\u001b[49m\n\u001b[1;32m     74\u001b[0m \u001b[38;5;28mself\u001b[39m\u001b[38;5;241m.\u001b[39mscore_history \u001b[38;5;241m+\u001b[39m\u001b[38;5;241m=\u001b[39m \u001b[38;5;28mself\u001b[39m\u001b[38;5;241m.\u001b[39mscores\n\u001b[1;32m     75\u001b[0m \u001b[38;5;28mself\u001b[39m\u001b[38;5;241m.\u001b[39my_best \u001b[38;5;241m=\u001b[39m \u001b[38;5;28mmax\u001b[39m([np\u001b[38;5;241m.\u001b[39mmean(s) \u001b[38;5;28;01mfor\u001b[39;00m s \u001b[38;5;129;01min\u001b[39;00m \u001b[38;5;28mself\u001b[39m\u001b[38;5;241m.\u001b[39mscore_history])\n",
      "File \u001b[0;32m~/anaconda3/envs/pytorch_p310/lib/python3.10/multiprocessing/pool.py:367\u001b[0m, in \u001b[0;36mPool.map\u001b[0;34m(self, func, iterable, chunksize)\u001b[0m\n\u001b[1;32m    362\u001b[0m \u001b[38;5;28;01mdef\u001b[39;00m \u001b[38;5;21mmap\u001b[39m(\u001b[38;5;28mself\u001b[39m, func, iterable, chunksize\u001b[38;5;241m=\u001b[39m\u001b[38;5;28;01mNone\u001b[39;00m):\n\u001b[1;32m    363\u001b[0m \u001b[38;5;250m    \u001b[39m\u001b[38;5;124;03m'''\u001b[39;00m\n\u001b[1;32m    364\u001b[0m \u001b[38;5;124;03m    Apply `func` to each element in `iterable`, collecting the results\u001b[39;00m\n\u001b[1;32m    365\u001b[0m \u001b[38;5;124;03m    in a list that is returned.\u001b[39;00m\n\u001b[1;32m    366\u001b[0m \u001b[38;5;124;03m    '''\u001b[39;00m\n\u001b[0;32m--> 367\u001b[0m     \u001b[38;5;28;01mreturn\u001b[39;00m \u001b[38;5;28;43mself\u001b[39;49m\u001b[38;5;241;43m.\u001b[39;49m\u001b[43m_map_async\u001b[49m\u001b[43m(\u001b[49m\u001b[43mfunc\u001b[49m\u001b[43m,\u001b[49m\u001b[43m \u001b[49m\u001b[43miterable\u001b[49m\u001b[43m,\u001b[49m\u001b[43m \u001b[49m\u001b[43mmapstar\u001b[49m\u001b[43m,\u001b[49m\u001b[43m \u001b[49m\u001b[43mchunksize\u001b[49m\u001b[43m)\u001b[49m\u001b[38;5;241;43m.\u001b[39;49m\u001b[43mget\u001b[49m\u001b[43m(\u001b[49m\u001b[43m)\u001b[49m\n",
      "File \u001b[0;32m~/anaconda3/envs/pytorch_p310/lib/python3.10/multiprocessing/pool.py:774\u001b[0m, in \u001b[0;36mApplyResult.get\u001b[0;34m(self, timeout)\u001b[0m\n\u001b[1;32m    772\u001b[0m     \u001b[38;5;28;01mreturn\u001b[39;00m \u001b[38;5;28mself\u001b[39m\u001b[38;5;241m.\u001b[39m_value\n\u001b[1;32m    773\u001b[0m \u001b[38;5;28;01melse\u001b[39;00m:\n\u001b[0;32m--> 774\u001b[0m     \u001b[38;5;28;01mraise\u001b[39;00m \u001b[38;5;28mself\u001b[39m\u001b[38;5;241m.\u001b[39m_value\n",
      "\u001b[0;31mOutOfMemoryError\u001b[0m: CUDA out of memory. Tried to allocate 24.00 MiB. GPU 3 has a total capacity of 14.58 GiB of which 21.62 MiB is free. Process 504 has 448.00 MiB memory in use. Process 507 has 448.00 MiB memory in use. Process 506 has 448.00 MiB memory in use. Process 505 has 448.00 MiB memory in use. Process 511 has 414.00 MiB memory in use. Process 509 has 414.00 MiB memory in use. Process 508 has 414.00 MiB memory in use. Process 510 has 414.00 MiB memory in use. Process 515 has 384.00 MiB memory in use. Process 512 has 384.00 MiB memory in use. Process 514 has 384.00 MiB memory in use. Process 513 has 384.00 MiB memory in use. Process 517 has 450.00 MiB memory in use. Process 519 has 450.00 MiB memory in use. Process 518 has 450.00 MiB memory in use. Process 516 has 450.00 MiB memory in use. Process 520 has 556.00 MiB memory in use. Process 527 has 556.00 MiB memory in use. Process 526 has 556.00 MiB memory in use. Process 521 has 556.00 MiB memory in use. Process 522 has 432.00 MiB memory in use. Process 534 has 432.00 MiB memory in use. Process 524 has 432.00 MiB memory in use. Process 523 has 432.00 MiB memory in use. Process 535 has 344.00 MiB memory in use. Process 529 has 344.00 MiB memory in use. Process 528 has 344.00 MiB memory in use. Process 525 has 344.00 MiB memory in use. Process 532 has 496.00 MiB memory in use. Process 530 has 496.00 MiB memory in use. Process 531 has 496.00 MiB memory in use. Process 537 has 496.00 MiB memory in use. Including non-PyTorch memory, this process has 260.00 MiB memory in use. Process 539 has 180.00 MiB memory in use. Process 533 has 180.00 MiB memory in use. Process 538 has 180.00 MiB memory in use. Of the allocated memory 99.59 MiB is allocated by PyTorch, and 26.41 MiB is reserved by PyTorch but unallocated. If reserved but unallocated memory is large try setting PYTORCH_CUDA_ALLOC_CONF=expandable_segments:True to avoid fragmentation.  See documentation for Memory Management  (https://pytorch.org/docs/stable/notes/cuda.html#environment-variables)"
     ]
    }
   ],
   "source": [
    "if __name__ == '__main__':\n",
    "\n",
    "    \n",
    "    hp_tune = quante.carlo(worker.instance, limits=[[64, 1024], [64, 1024], [64, 1024]], \n",
    "                           kernel=DotProduct()+ WhiteKernel(), \n",
    "                           gpr_batch_size=100, n_processors=4, n_iterations=100, \n",
    "                           other_parameters ={'input_layer_size': 28*28, \n",
    "                                              'output_layer_size': 10, \n",
    "                                              'train_iterations': 100,\n",
    "                                              'n_batches': 5,\n",
    "                                              'batch_size': .05})\n",
    "    p = mp.Pool()\n",
    "    start = time.time()    \n",
    "    session = hp_tune(p)\n",
    "\n",
    "    print(\"{} seconds\".format(round(time.time() - start,2)))\n",
    "    p.close()\n",
    "    "
   ]
  },
  {
   "cell_type": "code",
   "execution_count": 7,
   "id": "a3a3704a-a948-49f4-9474-5a3a3747eac5",
   "metadata": {
    "tags": []
   },
   "outputs": [],
   "source": [
    "summary = session.summary()"
   ]
  },
  {
   "cell_type": "code",
   "execution_count": 8,
   "id": "e24226d9-07e8-4ec2-a27f-cadc3ce4c6c4",
   "metadata": {
    "tags": []
   },
   "outputs": [
    {
     "data": {
      "image/png": "[encoded data removed]",
      "text/plain": [
       "<Figure size 640x480 with 1 Axes>"
      ]
     },
     "metadata": {},
     "output_type": "display_data"
    }
   ],
   "source": [
    "n = summary[['score', 'iteration']].groupby('iteration').max().plot()"
   ]
  },
  {
   "cell_type": "code",
   "execution_count": 19,
   "id": "4727b62f-d402-4cb3-a5dc-e5935ef917e7",
   "metadata": {
    "tags": []
   },
   "outputs": [],
   "source": [
    "import matplotlib.pyplot as plt"
   ]
  },
  {
   "cell_type": "code",
   "execution_count": 8,
   "id": "f95968a3-2b82-4d60-9d03-9d883b106e6c",
   "metadata": {
    "tags": []
   },
   "outputs": [
    {
     "data": {
      "text/plain": [
       "[0.8236023038625717,\n",
       " 0.8264149278402328,\n",
       " 0.8296274244785309,\n",
       " 0.8335081189870834,\n",
       " 0.7914711236953735,\n",
       " 0.8246472775936127,\n",
       " 0.807355597615242,\n",
       " 0.8046178221702576,\n",
       " 0.819714367389679,\n",
       " 0.8345688283443451,\n",
       " 0.8248534500598907,\n",
       " 0.8242157548666,\n",
       " 0.8154868185520172,\n",
       " 0.801821231842041,\n",
       " 0.8148841857910156,\n",
       " 0.8318903148174286,\n",
       " 0.7927335798740387,\n",
       " 0.7842507362365723,\n",
       " 0.8249311298131943,\n",
       " 0.790860503911972,\n",
       " 0.8301946967840195,\n",
       " 0.8338319063186646,\n",
       " 0.8203210383653641,\n",
       " 0.818184569478035]"
      ]
     },
     "execution_count": 8,
     "metadata": {},
     "output_type": "execute_result"
    }
   ],
   "source": [
    "session.score_history"
   ]
  },
  {
   "cell_type": "code",
   "execution_count": 9,
   "id": "1d529ed1-17d0-4a62-94d4-adb23c8373dd",
   "metadata": {
    "tags": []
   },
   "outputs": [
    {
     "data": {
      "text/plain": [
       "0.8345688283443451"
      ]
     },
     "execution_count": 9,
     "metadata": {},
     "output_type": "execute_result"
    }
   ],
   "source": [
    "session.y_best"
   ]
  },
  {
   "cell_type": "code",
   "execution_count": 10,
   "id": "cb806598-6d56-46de-9ffa-308961401ab6",
   "metadata": {
    "tags": []
   },
   "outputs": [
    {
     "data": {
      "text/html": [
       "<div>\n",
       "<style scoped>\n",
       "    .dataframe tbody tr th:only-of-type {\n",
       "        vertical-align: middle;\n",
       "    }\n",
       "\n",
       "    .dataframe tbody tr th {\n",
       "        vertical-align: top;\n",
       "    }\n",
       "\n",
       "    .dataframe thead th {\n",
       "        text-align: right;\n",
       "    }\n",
       "</style>\n",
       "<table border=\"1\" class=\"dataframe\">\n",
       "  <thead>\n",
       "    <tr style=\"text-align: right;\">\n",
       "      <th></th>\n",
       "      <th>iteration</th>\n",
       "      <th>score</th>\n",
       "      <th>hparameters</th>\n",
       "      <th>qEi</th>\n",
       "    </tr>\n",
       "  </thead>\n",
       "  <tbody>\n",
       "    <tr>\n",
       "      <th>0</th>\n",
       "      <td>0</td>\n",
       "      <td>0.823602</td>\n",
       "      <td>(68, 119, 90)</td>\n",
       "      <td>-1.000000</td>\n",
       "    </tr>\n",
       "    <tr>\n",
       "      <th>1</th>\n",
       "      <td>0</td>\n",
       "      <td>0.826415</td>\n",
       "      <td>(70, 125, 65)</td>\n",
       "      <td>-1.000000</td>\n",
       "    </tr>\n",
       "    <tr>\n",
       "      <th>2</th>\n",
       "      <td>0</td>\n",
       "      <td>0.829627</td>\n",
       "      <td>(79, 83, 118)</td>\n",
       "      <td>-1.000000</td>\n",
       "    </tr>\n",
       "    <tr>\n",
       "      <th>3</th>\n",
       "      <td>0</td>\n",
       "      <td>0.833508</td>\n",
       "      <td>(69, 92, 127)</td>\n",
       "      <td>-1.000000</td>\n",
       "    </tr>\n",
       "    <tr>\n",
       "      <th>4</th>\n",
       "      <td>1</td>\n",
       "      <td>0.791471</td>\n",
       "      <td>(64, 127, 121)</td>\n",
       "      <td>0.997644</td>\n",
       "    </tr>\n",
       "    <tr>\n",
       "      <th>5</th>\n",
       "      <td>1</td>\n",
       "      <td>0.824647</td>\n",
       "      <td>(76, 91, 84)</td>\n",
       "      <td>0.997644</td>\n",
       "    </tr>\n",
       "    <tr>\n",
       "      <th>6</th>\n",
       "      <td>1</td>\n",
       "      <td>0.807356</td>\n",
       "      <td>(113, 107, 123)</td>\n",
       "      <td>0.997644</td>\n",
       "    </tr>\n",
       "    <tr>\n",
       "      <th>7</th>\n",
       "      <td>1</td>\n",
       "      <td>0.804618</td>\n",
       "      <td>(69, 80, 107)</td>\n",
       "      <td>0.997644</td>\n",
       "    </tr>\n",
       "    <tr>\n",
       "      <th>8</th>\n",
       "      <td>2</td>\n",
       "      <td>0.819714</td>\n",
       "      <td>(67, 68, 81)</td>\n",
       "      <td>0.830046</td>\n",
       "    </tr>\n",
       "    <tr>\n",
       "      <th>9</th>\n",
       "      <td>2</td>\n",
       "      <td>0.834569</td>\n",
       "      <td>(69, 123, 126)</td>\n",
       "      <td>0.830046</td>\n",
       "    </tr>\n",
       "    <tr>\n",
       "      <th>10</th>\n",
       "      <td>2</td>\n",
       "      <td>0.824853</td>\n",
       "      <td>(104, 70, 68)</td>\n",
       "      <td>0.830046</td>\n",
       "    </tr>\n",
       "    <tr>\n",
       "      <th>11</th>\n",
       "      <td>2</td>\n",
       "      <td>0.824216</td>\n",
       "      <td>(114, 64, 88)</td>\n",
       "      <td>0.830046</td>\n",
       "    </tr>\n",
       "    <tr>\n",
       "      <th>12</th>\n",
       "      <td>3</td>\n",
       "      <td>0.815487</td>\n",
       "      <td>(72, 75, 65)</td>\n",
       "      <td>0.638801</td>\n",
       "    </tr>\n",
       "    <tr>\n",
       "      <th>13</th>\n",
       "      <td>3</td>\n",
       "      <td>0.801821</td>\n",
       "      <td>(88, 88, 82)</td>\n",
       "      <td>0.638801</td>\n",
       "    </tr>\n",
       "    <tr>\n",
       "      <th>14</th>\n",
       "      <td>3</td>\n",
       "      <td>0.814884</td>\n",
       "      <td>(95, 71, 70)</td>\n",
       "      <td>0.638801</td>\n",
       "    </tr>\n",
       "    <tr>\n",
       "      <th>15</th>\n",
       "      <td>3</td>\n",
       "      <td>0.831890</td>\n",
       "      <td>(91, 127, 66)</td>\n",
       "      <td>0.638801</td>\n",
       "    </tr>\n",
       "    <tr>\n",
       "      <th>16</th>\n",
       "      <td>4</td>\n",
       "      <td>0.792734</td>\n",
       "      <td>(98, 123, 72)</td>\n",
       "      <td>0.541692</td>\n",
       "    </tr>\n",
       "    <tr>\n",
       "      <th>17</th>\n",
       "      <td>4</td>\n",
       "      <td>0.784251</td>\n",
       "      <td>(96, 101, 86)</td>\n",
       "      <td>0.541692</td>\n",
       "    </tr>\n",
       "    <tr>\n",
       "      <th>18</th>\n",
       "      <td>4</td>\n",
       "      <td>0.824931</td>\n",
       "      <td>(106, 115, 64)</td>\n",
       "      <td>0.541692</td>\n",
       "    </tr>\n",
       "    <tr>\n",
       "      <th>19</th>\n",
       "      <td>4</td>\n",
       "      <td>0.790861</td>\n",
       "      <td>(66, 81, 75)</td>\n",
       "      <td>0.541692</td>\n",
       "    </tr>\n",
       "    <tr>\n",
       "      <th>20</th>\n",
       "      <td>5</td>\n",
       "      <td>0.830195</td>\n",
       "      <td>(109, 70, 119)</td>\n",
       "      <td>0.502306</td>\n",
       "    </tr>\n",
       "    <tr>\n",
       "      <th>21</th>\n",
       "      <td>5</td>\n",
       "      <td>0.833832</td>\n",
       "      <td>(89, 128, 84)</td>\n",
       "      <td>0.502306</td>\n",
       "    </tr>\n",
       "    <tr>\n",
       "      <th>22</th>\n",
       "      <td>5</td>\n",
       "      <td>0.820321</td>\n",
       "      <td>(71, 71, 123)</td>\n",
       "      <td>0.502306</td>\n",
       "    </tr>\n",
       "    <tr>\n",
       "      <th>23</th>\n",
       "      <td>5</td>\n",
       "      <td>0.818185</td>\n",
       "      <td>(114, 100, 123)</td>\n",
       "      <td>0.502306</td>\n",
       "    </tr>\n",
       "  </tbody>\n",
       "</table>\n",
       "</div>"
      ],
      "text/plain": [
       "    iteration     score      hparameters       qEi\n",
       "0           0  0.823602    (68, 119, 90) -1.000000\n",
       "1           0  0.826415    (70, 125, 65) -1.000000\n",
       "2           0  0.829627    (79, 83, 118) -1.000000\n",
       "3           0  0.833508    (69, 92, 127) -1.000000\n",
       "4           1  0.791471   (64, 127, 121)  0.997644\n",
       "5           1  0.824647     (76, 91, 84)  0.997644\n",
       "6           1  0.807356  (113, 107, 123)  0.997644\n",
       "7           1  0.804618    (69, 80, 107)  0.997644\n",
       "8           2  0.819714     (67, 68, 81)  0.830046\n",
       "9           2  0.834569   (69, 123, 126)  0.830046\n",
       "10          2  0.824853    (104, 70, 68)  0.830046\n",
       "11          2  0.824216    (114, 64, 88)  0.830046\n",
       "12          3  0.815487     (72, 75, 65)  0.638801\n",
       "13          3  0.801821     (88, 88, 82)  0.638801\n",
       "14          3  0.814884     (95, 71, 70)  0.638801\n",
       "15          3  0.831890    (91, 127, 66)  0.638801\n",
       "16          4  0.792734    (98, 123, 72)  0.541692\n",
       "17          4  0.784251    (96, 101, 86)  0.541692\n",
       "18          4  0.824931   (106, 115, 64)  0.541692\n",
       "19          4  0.790861     (66, 81, 75)  0.541692\n",
       "20          5  0.830195   (109, 70, 119)  0.502306\n",
       "21          5  0.833832    (89, 128, 84)  0.502306\n",
       "22          5  0.820321    (71, 71, 123)  0.502306\n",
       "23          5  0.818185  (114, 100, 123)  0.502306"
      ]
     },
     "execution_count": 10,
     "metadata": {},
     "output_type": "execute_result"
    }
   ],
   "source": [
    "summary"
   ]
  },
  {
   "cell_type": "code",
   "execution_count": null,
   "id": "6edcb92e-0a1c-44e9-8498-17b42ab8bb95",
   "metadata": {},
   "outputs": [],
   "source": []
  }
 ],
 "metadata": {
  "kernelspec": {
   "display_name": "conda_pytorch_p310",
   "language": "python",
   "name": "conda_pytorch_p310"
  },
  "language_info": {
   "codemirror_mode": {
    "name": "ipython",
    "version": 3
   },
   "file_extension": ".py",
   "mimetype": "text/x-python",
   "name": "python",
   "nbconvert_exporter": "python",
   "pygments_lexer": "ipython3",
   "version": "3.10.14"
  }
 },
 "nbformat": 4,
 "nbformat_minor": 5
}
