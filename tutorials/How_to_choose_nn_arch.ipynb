{
 "cells": [
  {
   "cell_type": "markdown",
   "id": "a4ad6ad1-9b33-4fe1-b780-02f89f558226",
   "metadata": {
    "tags": []
   },
   "source": [
    "# Tutorial for quante_carlo\n",
    "- <b>quante_carlo</b> is a multiprocess hyperparameter tuning module. \n",
    "- This notebook demonstrates how to use this module to determine the number of neurons to use in a pytorch neural network."
   ]
  },
  {
   "cell_type": "code",
   "execution_count": 3,
   "id": "c8a1b4b0-3312-4c43-a9f7-cbcc34b6a41a",
   "metadata": {
    "tags": []
   },
   "outputs": [],
   "source": [
    "#from sklearn.model_selection import cross_val_score\n",
    "import pandas as pd\n",
    "#from quante_carlo import quante\n",
    "import quante\n",
    "#from sklearn.gaussian_process.kernels import DotProduct, WhiteKernel, RBF, Matern\n",
    "import time\n",
    "import numpy as np\n",
    "import torch\n",
    "import multiprocessing as mp\n",
    "#from multiprocessing.pool import ThreadPool as tp\n",
    "from torch import nn\n",
    "import worker"
   ]
  },
  {
   "cell_type": "code",
   "execution_count": 2,
   "id": "51f6599d-58ff-49ca-a787-b52876ba9850",
   "metadata": {
    "tags": []
   },
   "outputs": [
    {
     "name": "stdout",
     "output_type": "stream",
     "text": [
      "/home/ec2-user/SageMaker/projects/quante_carlo/quante_carlo\n"
     ]
    }
   ],
   "source": [
    "cd ../quante_carlo"
   ]
  },
  {
   "cell_type": "markdown",
   "id": "90e65830-1a99-4b25-80c6-76e0ee17c0a4",
   "metadata": {},
   "source": [
    "## This tutorial uses mnist dataset available <a href=\"https://www.kaggle.com/code/imdevskp/digits-mnist-classification-using-cnn\">here</a>"
   ]
  },
  {
   "cell_type": "markdown",
   "id": "70f75894-f21c-4e94-abcd-7e3401261dce",
   "metadata": {},
   "source": [
    "### Multiprocessing\n",
    "Note to person giving demo:\n",
    "    <code>gunicorn -w 18 'flask_worker:app'</code>"
   ]
  },
  {
   "cell_type": "markdown",
   "id": "26666ddd-5a79-472c-9a7a-13c768eb1213",
   "metadata": {},
   "source": [
    "Included with this repository is a file named worked.py. It's better to put the objective function you want to optimize in a file.\n",
    "<br> In this example, the worker.py file defines an evaluation function called instance\n",
    "\n",
    "\n",
    "    def instance(p):\n",
    "        loss_fn = torch.nn.BCEWithLogitsLoss()\n",
    "        device = 'cuda:'+str(p['thread_id'])\n",
    "        model = NeuralNetwork(p['input_layer_size'], p['hparameters'], n_outputs=p['output_layer_size'])\n",
    "        model.to(device)\n",
    "        optimizer = torch.optim.SGD(model.parameters(), lr=1e-3)\n",
    "        loss_history = []\n",
    "        model.train()\n",
    "\n",
    "        loader = data_loader(p['batch_size'])\n",
    "\n",
    "        for i in range(p['train_iterations']):\n",
    "            for batch in range(p['n_batches']):\n",
    "                X_train, y_train = loader.get_batch(batch)\n",
    "\n",
    "                X = X_train.to(device)\n",
    "                y = y_train.to(device)\n",
    "\n",
    "                pred = model(X)\n",
    "                loss = loss_fn(pred, y)\n",
    "\n",
    "                loss.backward()\n",
    "                optimizer.step()\n",
    "                optimizer.zero_grad()\n",
    "                loss_history.append(loss.item())\n",
    "\n",
    "        X_test, y_test = loader.get_batch(-1)\n",
    "\n",
    "        model.eval()\n",
    "\n",
    "        X = X_test.to(device)\n",
    "        y = y_test.to(device)\n",
    "        pred = model(X)\n",
    "\n",
    "        torch.cuda.empty_cache()\n",
    "\n",
    "        return 1-loss.item()\n",
    "\n",
    "\n",
    "\n",
    "- The function takes the parameters for each instance from a field defined by the key 'hparameters'.\n",
    "- The function also returns 1 - loss because the NeuralNetwork is minimizing loss and the Optimizer is set to 'maximize' the function.\n"
   ]
  },
  {
   "cell_type": "markdown",
   "id": "275937cb-647b-4579-a4b2-bb6e8ba3568a",
   "metadata": {},
   "source": [
    "### Main \n",
    "- The network has 3 hidden layers and the ranges of each layer are as follows: [[32, 512], [32, 1024], [32, 512]],\n",
    "- Notice that there are 16 gpr processors (Bayesian Optimization step) and 4 GPU processers (training step)\n",
    "- Because the output layer is a vector of length 10 of ones and zeros we are using BCEWithLogitsLoss.\n",
    "- I am not using a softmax final function because for prediction, it seems to perform better without one."
   ]
  },
  {
   "cell_type": "code",
   "execution_count": 5,
   "id": "6cc2bbf1-0dba-426e-b4bd-11cbda8c3c0b",
   "metadata": {
    "tags": []
   },
   "outputs": [
    {
     "name": "stdout",
     "output_type": "stream",
     "text": [
      "419.41 seconds\n"
     ]
    }
   ],
   "source": [
    "\n",
    "gbatch_size = 5000\n",
    "g_procs = 18 # cpus\n",
    "hp_ranges = [[32, 512], [32, 1024], [32, 512]]\n",
    "n_procs = 3 # number of gpus\n",
    "n_iter = 20 # bayes iterations\n",
    "logfile_name = 'logs/logfile_14.txt'\n",
    "\n",
    "\n",
    "oparameters = {'input_layer_size': 28*28, \n",
    "               'output_layer_size': 10, \n",
    "               'train_iterations': 200,\n",
    "               'n_batches': 11,\n",
    "               'batch_size': .06}\n",
    "\n",
    "\n",
    "if __name__ == '__main__':\n",
    "\n",
    "    \n",
    "    hp_tune = quante.carlo(worker.instance, limits=hp_ranges, \n",
    "                           #kernel=DotProduct()+ WhiteKernel(), \n",
    "                           gpr_batch_size=gbatch_size, n_gpr_processors=g_procs, n_processors=n_procs, n_iterations=n_iter, \n",
    "                           other_parameters = oparameters, log_file=logfile_name)\n",
    "    p = mp.Pool()\n",
    "    #p = tp.ThreadPool(g_procs)\n",
    "    start = time.time()    \n",
    "    session = hp_tune(p)\n",
    "\n",
    "    print(\"{} seconds\".format(round(time.time() - start,2)))\n",
    "    p.close()\n",
    "    "
   ]
  },
  {
   "cell_type": "code",
   "execution_count": 6,
   "id": "a3a3704a-a948-49f4-9474-5a3a3747eac5",
   "metadata": {
    "tags": []
   },
   "outputs": [
    {
     "data": {
      "text/html": [
       "<div>\n",
       "<style scoped>\n",
       "    .dataframe tbody tr th:only-of-type {\n",
       "        vertical-align: middle;\n",
       "    }\n",
       "\n",
       "    .dataframe tbody tr th {\n",
       "        vertical-align: top;\n",
       "    }\n",
       "\n",
       "    .dataframe thead th {\n",
       "        text-align: right;\n",
       "    }\n",
       "</style>\n",
       "<table border=\"1\" class=\"dataframe\">\n",
       "  <thead>\n",
       "    <tr style=\"text-align: right;\">\n",
       "      <th></th>\n",
       "      <th>iteration</th>\n",
       "      <th>score</th>\n",
       "      <th>hparameters</th>\n",
       "      <th>qEi</th>\n",
       "    </tr>\n",
       "  </thead>\n",
       "  <tbody>\n",
       "    <tr>\n",
       "      <th>0</th>\n",
       "      <td>0</td>\n",
       "      <td>0.922961</td>\n",
       "      <td>(344, 164, 38)</td>\n",
       "      <td>-1.000000</td>\n",
       "    </tr>\n",
       "    <tr>\n",
       "      <th>1</th>\n",
       "      <td>0</td>\n",
       "      <td>0.927925</td>\n",
       "      <td>(286, 234, 95)</td>\n",
       "      <td>-1.000000</td>\n",
       "    </tr>\n",
       "    <tr>\n",
       "      <th>2</th>\n",
       "      <td>0</td>\n",
       "      <td>0.943128</td>\n",
       "      <td>(337, 923, 333)</td>\n",
       "      <td>-1.000000</td>\n",
       "    </tr>\n",
       "    <tr>\n",
       "      <th>3</th>\n",
       "      <td>1</td>\n",
       "      <td>0.937583</td>\n",
       "      <td>(496, 998, 56)</td>\n",
       "      <td>0.999999</td>\n",
       "    </tr>\n",
       "    <tr>\n",
       "      <th>4</th>\n",
       "      <td>1</td>\n",
       "      <td>0.941063</td>\n",
       "      <td>(491, 194, 400)</td>\n",
       "      <td>0.999999</td>\n",
       "    </tr>\n",
       "    <tr>\n",
       "      <th>...</th>\n",
       "      <td>...</td>\n",
       "      <td>...</td>\n",
       "      <td>...</td>\n",
       "      <td>...</td>\n",
       "    </tr>\n",
       "    <tr>\n",
       "      <th>58</th>\n",
       "      <td>19</td>\n",
       "      <td>0.944529</td>\n",
       "      <td>(313, 1003, 473)</td>\n",
       "      <td>0.412563</td>\n",
       "    </tr>\n",
       "    <tr>\n",
       "      <th>59</th>\n",
       "      <td>19</td>\n",
       "      <td>0.947960</td>\n",
       "      <td>(497, 1010, 504)</td>\n",
       "      <td>0.412563</td>\n",
       "    </tr>\n",
       "    <tr>\n",
       "      <th>60</th>\n",
       "      <td>20</td>\n",
       "      <td>0.938212</td>\n",
       "      <td>(255, 526, 135)</td>\n",
       "      <td>0.436195</td>\n",
       "    </tr>\n",
       "    <tr>\n",
       "      <th>61</th>\n",
       "      <td>20</td>\n",
       "      <td>0.946609</td>\n",
       "      <td>(486, 1019, 507)</td>\n",
       "      <td>0.436195</td>\n",
       "    </tr>\n",
       "    <tr>\n",
       "      <th>62</th>\n",
       "      <td>20</td>\n",
       "      <td>0.947304</td>\n",
       "      <td>(497, 876, 468)</td>\n",
       "      <td>0.436195</td>\n",
       "    </tr>\n",
       "  </tbody>\n",
       "</table>\n",
       "<p>63 rows × 4 columns</p>\n",
       "</div>"
      ],
      "text/plain": [
       "    iteration     score       hparameters       qEi\n",
       "0           0  0.922961    (344, 164, 38) -1.000000\n",
       "1           0  0.927925    (286, 234, 95) -1.000000\n",
       "2           0  0.943128   (337, 923, 333) -1.000000\n",
       "3           1  0.937583    (496, 998, 56)  0.999999\n",
       "4           1  0.941063   (491, 194, 400)  0.999999\n",
       "..        ...       ...               ...       ...\n",
       "58         19  0.944529  (313, 1003, 473)  0.412563\n",
       "59         19  0.947960  (497, 1010, 504)  0.412563\n",
       "60         20  0.938212   (255, 526, 135)  0.436195\n",
       "61         20  0.946609  (486, 1019, 507)  0.436195\n",
       "62         20  0.947304   (497, 876, 468)  0.436195\n",
       "\n",
       "[63 rows x 4 columns]"
      ]
     },
     "execution_count": 6,
     "metadata": {},
     "output_type": "execute_result"
    }
   ],
   "source": [
    "summary = session.summary()\n",
    "summary"
   ]
  },
  {
   "cell_type": "code",
   "execution_count": 7,
   "id": "177bf2f6-c54b-4dbb-a1e7-bd4ede479fb8",
   "metadata": {
    "tags": []
   },
   "outputs": [
    {
     "name": "stderr",
     "output_type": "stream",
     "text": [
      "Matplotlib is building the font cache; this may take a moment.\n"
     ]
    }
   ],
   "source": [
    "import matplotlib.pyplot as plt"
   ]
  },
  {
   "cell_type": "code",
   "execution_count": 8,
   "id": "e24226d9-07e8-4ec2-a27f-cadc3ce4c6c4",
   "metadata": {
    "tags": []
   },
   "outputs": [
    {
     "data": {
      "image/png": "[encoded data removed]",
      "text/plain": [
       "<Figure size 640x480 with 1 Axes>"
      ]
     },
     "metadata": {},
     "output_type": "display_data"
    }
   ],
   "source": [
    "n = summary[['score', 'iteration']].groupby('iteration').max().plot()\n",
    "best = [max(summary[summary['iteration']<=i]['score']) for i in range(n_iter+1)]\n",
    "p = plt.plot(best)\n",
    "plt.savefig('hptune.png')"
   ]
  },
  {
   "cell_type": "code",
   "execution_count": 12,
   "id": "6edcb92e-0a1c-44e9-8498-17b42ab8bb95",
   "metadata": {
    "tags": []
   },
   "outputs": [
    {
     "name": "stdout",
     "output_type": "stream",
     "text": [
      "[neptune] [info   ] Neptune initialized. Open in the app: https://app.neptune.ai/mshipman/HPTune/e/HPTUN-12\n",
      "[neptune] [info   ] Shutting down background jobs, please wait a moment...\n",
      "[neptune] [info   ] Done!\n",
      "[neptune] [info   ] Waiting for the remaining 14 operations to synchronize with Neptune. Do not kill this process.\n",
      "[neptune] [info   ] All 14 operations synced, thanks for waiting!\n",
      "[neptune] [info   ] Explore the metadata in the Neptune app: https://app.neptune.ai/mshipman/HPTune/e/HPTUN-12/metadata\n"
     ]
    }
   ],
   "source": [
    "import neptune\n",
    "run = neptune.init_run(\n",
    "    project=\"mshipman/HPTune\",\n",
    "    api_token=\"eyJhcGlfYWRkcmVzcyI6Imh0dHBzOi8vYXBwLm5lcHR1bmUuYWkiLCJhcGlfdXJsIjoiaHR0cHM6Ly9hcHAubmVwdHVuZS5haSIsImFwaV9rZXkiOiIzNzhiNTgwMC05MDAzLTQ4NTQtOTk1NC04YWFlN2JkMDg4NWEifQ==\",\n",
    ")\n",
    "\n",
    "summary.to_csv(\"summary.csv\", index=False)\n",
    "run[\"summary/score_history.csv\"].upload(\"summary.csv\")\n",
    "\n",
    "params = {\"limits\": '('+') ('.join([\"{},{}\".format(x[0], x[1]) for x in hp_ranges])+')', \n",
    "          \"gpr_batch_size\": gbatch_size,\n",
    "          \"n_gpr_processors\": g_procs, \"n_processors\": n_procs,\n",
    "          \"n_iterations\": n_iter, \"other_parameters\": oparameters}\n",
    "run[\"parameters\"] = params\n",
    "run[\"summary/best_by_iteration.png\"].upload(\"hptune.png\")\n",
    "run['historical/best'] = ','.join([str(x) for x in best])\n",
    "run[\"log\"].upload(logfile_name)\n",
    "run.stop()\n"
   ]
  },
  {
   "cell_type": "code",
   "execution_count": null,
   "id": "86829562-37da-4ff7-82d0-b4f04c6270aa",
   "metadata": {},
   "outputs": [],
   "source": []
  }
 ],
 "metadata": {
  "kernelspec": {
   "display_name": "conda_pytorch_p310",
   "language": "python",
   "name": "conda_pytorch_p310"
  },
  "language_info": {
   "codemirror_mode": {
    "name": "ipython",
    "version": 3
   },
   "file_extension": ".py",
   "mimetype": "text/x-python",
   "name": "python",
   "nbconvert_exporter": "python",
   "pygments_lexer": "ipython3",
   "version": "3.10.14"
  }
 },
 "nbformat": 4,
 "nbformat_minor": 5
}
