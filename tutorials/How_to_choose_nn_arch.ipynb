{
 "cells": [
  {
   "cell_type": "markdown",
   "id": "a4ad6ad1-9b33-4fe1-b780-02f89f558226",
   "metadata": {
    "tags": []
   },
   "source": [
    "# Tutorial for quante_carlo\n",
    "- <b>quante_carlo</b> is a multiprocess hyperparameter tuning module. \n",
    "- This notebook demonstrates how to use this module to determine the number of neurons to use in a pytorch neural network."
   ]
  },
  {
   "cell_type": "code",
   "execution_count": 2,
   "id": "c8a1b4b0-3312-4c43-a9f7-cbcc34b6a41a",
   "metadata": {
    "tags": []
   },
   "outputs": [],
   "source": [
    "#from sklearn.model_selection import cross_val_score\n",
    "import pandas as pd\n",
    "import quante_carlo as qc\n",
    "#from sklearn.gaussian_process.kernels import DotProduct, WhiteKernel, RBF, Matern\n",
    "import time\n",
    "import numpy as np\n",
    "import torch\n",
    "import multiprocessing as mp\n",
    "#from multiprocessing.pool import ThreadPool as tp\n",
    "from torch import nn\n",
    "import worker"
   ]
  },
  {
   "cell_type": "code",
   "execution_count": 1,
   "id": "51f6599d-58ff-49ca-a787-b52876ba9850",
   "metadata": {
    "tags": []
   },
   "outputs": [
    {
     "name": "stdout",
     "output_type": "stream",
     "text": [
      "/home/ec2-user/SageMaker/projects/quante_carlo/quante_carlo\n"
     ]
    }
   ],
   "source": [
    "cd ../quante_carlo"
   ]
  },
  {
   "cell_type": "code",
   "execution_count": 10,
   "id": "6d1a5cc5-60c2-4894-a942-d96c13d96743",
   "metadata": {
    "tags": []
   },
   "outputs": [],
   "source": [
    "from importlib import reload \n",
    "from scipy.stats import multivariate_normal as mvn"
   ]
  },
  {
   "cell_type": "code",
   "execution_count": 15,
   "id": "ea19bf94-b4b8-4f9e-aa2d-c5c9c605db41",
   "metadata": {
    "tags": []
   },
   "outputs": [],
   "source": [
    "worker = reload(qc)"
   ]
  },
  {
   "cell_type": "markdown",
   "id": "90e65830-1a99-4b25-80c6-76e0ee17c0a4",
   "metadata": {},
   "source": [
    "## This tutorial uses mnist dataset available <a href=\"https://www.kaggle.com/code/imdevskp/digits-mnist-classification-using-cnn\">here</a>"
   ]
  },
  {
   "cell_type": "markdown",
   "id": "70f75894-f21c-4e94-abcd-7e3401261dce",
   "metadata": {},
   "source": [
    "### Multiprocessing\n",
    "Note to person giving demo:\n",
    "    <code>gunicorn -w 18 'flask_worker:app'</code>"
   ]
  },
  {
   "cell_type": "markdown",
   "id": "26666ddd-5a79-472c-9a7a-13c768eb1213",
   "metadata": {},
   "source": [
    "Included with this repository is a file named worked.py. It's better to put the objective function you want to optimize in a file.\n",
    "<br> In this example, the worker.py file defines an evaluation function called instance\n",
    "\n",
    "\n",
    "    def instance(p):\n",
    "        loss_fn = torch.nn.BCEWithLogitsLoss()\n",
    "        device = 'cuda:'+str(p['thread_id'])\n",
    "        model = NeuralNetwork(p['input_layer_size'], p['hparameters'], n_outputs=p['output_layer_size'])\n",
    "        model.to(device)\n",
    "        optimizer = torch.optim.SGD(model.parameters(), lr=1e-3)\n",
    "        loss_history = []\n",
    "        model.train()\n",
    "\n",
    "        loader = data_loader(p['batch_size'])\n",
    "\n",
    "        for i in range(p['train_iterations']):\n",
    "            for batch in range(p['n_batches']):\n",
    "                X_train, y_train = loader.get_batch(batch)\n",
    "\n",
    "                X = X_train.to(device)\n",
    "                y = y_train.to(device)\n",
    "\n",
    "                pred = model(X)\n",
    "                loss = loss_fn(pred, y)\n",
    "\n",
    "                loss.backward()\n",
    "                optimizer.step()\n",
    "                optimizer.zero_grad()\n",
    "                loss_history.append(loss.item())\n",
    "\n",
    "        X_test, y_test = loader.get_batch(-1)\n",
    "\n",
    "        model.eval()\n",
    "\n",
    "        X = X_test.to(device)\n",
    "        y = y_test.to(device)\n",
    "        pred = model(X)\n",
    "\n",
    "        torch.cuda.empty_cache()\n",
    "\n",
    "        return 1-loss.item()\n",
    "\n",
    "\n",
    "\n",
    "- The function takes the parameters for each instance from a field defined by the key 'hparameters'.\n",
    "- The function also returns 1 - loss because the NeuralNetwork is minimizing loss and the Optimizer is set to 'maximize' the function.\n"
   ]
  },
  {
   "cell_type": "markdown",
   "id": "275937cb-647b-4579-a4b2-bb6e8ba3568a",
   "metadata": {},
   "source": [
    "### Main \n",
    "- The network has 3 hidden layers and the ranges of each layer are as follows: [[32, 512], [32, 1024], [32, 512]],\n",
    "- Notice that there are 16 gpr processors (Bayesian Optimization step) and 4 GPU processers (training step)\n",
    "- Because the output layer is a vector of length 10 of ones and zeros we are using BCEWithLogitsLoss.\n",
    "- I am not using a softmax final function because for prediction, it seems to perform better without one."
   ]
  },
  {
   "cell_type": "code",
   "execution_count": 3,
   "id": "0fbeeae8-00d8-4b99-b08f-a1115505ec07",
   "metadata": {
    "tags": []
   },
   "outputs": [],
   "source": [
    "\n",
    "gbatch_size = 3000                                       # number of elements in the gaussian optimzation batch\n",
    "g_procs = 10                                             # cpus, number of batches for the gaussian optimization phase\n",
    "hp_ranges = [[32, 512], [32, 1024], [32, 512]]\n",
    "n_procs = 3                                              # number of gpus, need to be careful if using all 4, weird things can happen\n",
    "n_iter = 100                                             # bayes iterations\n",
    "logfile_name = 'logs/logfile_3.txt'\n",
    "\n",
    "\n",
    "oparameters = {'input_layer_size': 28*28, \n",
    "               'output_layer_size': 10, \n",
    "               'train_iterations': 200,\n",
    "               'n_batches': 11,\n",
    "               'batch_size': .08,\n",
    "               'train_test_files': {'x_train': 'nn_datasets/X_train.csv', \n",
    "                                    'x_test': 'nn_datasets/X_train.csv',\n",
    "                                    'y_train': 'nn_datasets/y_train.csv', \n",
    "                                    'y_test': 'nn_datasets/y_test.csv'}}\n"
   ]
  },
  {
   "cell_type": "code",
   "execution_count": 4,
   "id": "6cc2bbf1-0dba-426e-b4bd-11cbda8c3c0b",
   "metadata": {
    "tags": []
   },
   "outputs": [
    {
     "name": "stdout",
     "output_type": "stream",
     "text": [
      "0\n",
      "1\n",
      "2\n",
      "3\n",
      "4\n",
      "5\n",
      "6\n",
      "7\n",
      "8\n",
      "9\n",
      "10\n",
      "11\n",
      "12\n",
      "13\n",
      "14\n",
      "15\n",
      "16\n",
      "17\n",
      "18\n",
      "19\n",
      "20\n",
      "21\n",
      "22\n",
      "23\n",
      "24\n",
      "25\n",
      "26\n",
      "27\n",
      "28\n",
      "29\n",
      "30\n",
      "31\n",
      "32\n",
      "33\n",
      "34\n",
      "35\n",
      "36\n",
      "37\n",
      "38\n",
      "39\n",
      "40\n",
      "41\n",
      "42\n",
      "43\n",
      "44\n",
      "45\n",
      "46\n",
      "47\n",
      "48\n",
      "49\n",
      "50\n",
      "51\n",
      "52\n",
      "53\n",
      "54\n",
      "55\n",
      "56\n",
      "57\n",
      "58\n",
      "59\n",
      "60\n",
      "61\n",
      "62\n",
      "63\n",
      "64\n",
      "65\n",
      "66\n",
      "67\n",
      "68\n",
      "69\n",
      "70\n",
      "71\n",
      "72\n",
      "73\n",
      "74\n",
      "75\n",
      "76\n",
      "77\n",
      "78\n",
      "79\n",
      "80\n",
      "81\n",
      "82\n",
      "83\n",
      "84\n",
      "85\n",
      "86\n",
      "87\n",
      "88\n",
      "89\n",
      "90\n",
      "91\n",
      "92\n",
      "93\n",
      "94\n",
      "95\n",
      "96\n",
      "97\n",
      "98\n",
      "99\n",
      "2144.22 seconds\n"
     ]
    }
   ],
   "source": [
    "\n",
    "\n",
    "if __name__ == '__main__':\n",
    "    \n",
    "    hp_tune = qc.hp_tune(worker.instance,\n",
    "                         limits=hp_ranges, \n",
    "                         gpr_batch_size=gbatch_size, n_gpr_processors=g_procs, n_processors=n_procs, n_iterations=n_iter, \n",
    "                         other_parameters = oparameters, log_file=logfile_name)\n",
    "    p = mp.Pool()\n",
    "    start = time.time()    \n",
    "    session = hp_tune(p)\n",
    "\n",
    "    print(\"{} seconds\".format(round(time.time() - start,2)))\n",
    "    p.close()\n",
    "    "
   ]
  },
  {
   "cell_type": "code",
   "execution_count": 5,
   "id": "a3a3704a-a948-49f4-9474-5a3a3747eac5",
   "metadata": {
    "tags": []
   },
   "outputs": [
    {
     "data": {
      "text/html": [
       "<div>\n",
       "<style scoped>\n",
       "    .dataframe tbody tr th:only-of-type {\n",
       "        vertical-align: middle;\n",
       "    }\n",
       "\n",
       "    .dataframe tbody tr th {\n",
       "        vertical-align: top;\n",
       "    }\n",
       "\n",
       "    .dataframe thead th {\n",
       "        text-align: right;\n",
       "    }\n",
       "</style>\n",
       "<table border=\"1\" class=\"dataframe\">\n",
       "  <thead>\n",
       "    <tr style=\"text-align: right;\">\n",
       "      <th></th>\n",
       "      <th>iteration</th>\n",
       "      <th>score</th>\n",
       "      <th>hparameters</th>\n",
       "      <th>qEi</th>\n",
       "    </tr>\n",
       "  </thead>\n",
       "  <tbody>\n",
       "    <tr>\n",
       "      <th>0</th>\n",
       "      <td>0</td>\n",
       "      <td>0.944759</td>\n",
       "      <td>(504, 792, 231)</td>\n",
       "      <td>-1.000000</td>\n",
       "    </tr>\n",
       "    <tr>\n",
       "      <th>1</th>\n",
       "      <td>0</td>\n",
       "      <td>0.939179</td>\n",
       "      <td>(157, 891, 204)</td>\n",
       "      <td>-1.000000</td>\n",
       "    </tr>\n",
       "    <tr>\n",
       "      <th>2</th>\n",
       "      <td>0</td>\n",
       "      <td>0.937768</td>\n",
       "      <td>(215, 539, 495)</td>\n",
       "      <td>-1.000000</td>\n",
       "    </tr>\n",
       "    <tr>\n",
       "      <th>3</th>\n",
       "      <td>1</td>\n",
       "      <td>0.937558</td>\n",
       "      <td>(491, 114, 452)</td>\n",
       "      <td>21.788085</td>\n",
       "    </tr>\n",
       "    <tr>\n",
       "      <th>4</th>\n",
       "      <td>1</td>\n",
       "      <td>0.932634</td>\n",
       "      <td>(178, 511, 47)</td>\n",
       "      <td>21.788085</td>\n",
       "    </tr>\n",
       "    <tr>\n",
       "      <th>...</th>\n",
       "      <td>...</td>\n",
       "      <td>...</td>\n",
       "      <td>...</td>\n",
       "      <td>...</td>\n",
       "    </tr>\n",
       "    <tr>\n",
       "      <th>298</th>\n",
       "      <td>99</td>\n",
       "      <td>0.942490</td>\n",
       "      <td>(447, 945, 316)</td>\n",
       "      <td>0.106715</td>\n",
       "    </tr>\n",
       "    <tr>\n",
       "      <th>299</th>\n",
       "      <td>99</td>\n",
       "      <td>0.939764</td>\n",
       "      <td>(465, 906, 124)</td>\n",
       "      <td>0.106715</td>\n",
       "    </tr>\n",
       "    <tr>\n",
       "      <th>300</th>\n",
       "      <td>100</td>\n",
       "      <td>0.943126</td>\n",
       "      <td>(484, 1008, 56)</td>\n",
       "      <td>0.100828</td>\n",
       "    </tr>\n",
       "    <tr>\n",
       "      <th>301</th>\n",
       "      <td>100</td>\n",
       "      <td>0.940968</td>\n",
       "      <td>(484, 921, 194)</td>\n",
       "      <td>0.100828</td>\n",
       "    </tr>\n",
       "    <tr>\n",
       "      <th>302</th>\n",
       "      <td>100</td>\n",
       "      <td>0.942173</td>\n",
       "      <td>(431, 399, 451)</td>\n",
       "      <td>0.100828</td>\n",
       "    </tr>\n",
       "  </tbody>\n",
       "</table>\n",
       "<p>303 rows × 4 columns</p>\n",
       "</div>"
      ],
      "text/plain": [
       "     iteration     score      hparameters        qEi\n",
       "0            0  0.944759  (504, 792, 231)  -1.000000\n",
       "1            0  0.939179  (157, 891, 204)  -1.000000\n",
       "2            0  0.937768  (215, 539, 495)  -1.000000\n",
       "3            1  0.937558  (491, 114, 452)  21.788085\n",
       "4            1  0.932634   (178, 511, 47)  21.788085\n",
       "..         ...       ...              ...        ...\n",
       "298         99  0.942490  (447, 945, 316)   0.106715\n",
       "299         99  0.939764  (465, 906, 124)   0.106715\n",
       "300        100  0.943126  (484, 1008, 56)   0.100828\n",
       "301        100  0.940968  (484, 921, 194)   0.100828\n",
       "302        100  0.942173  (431, 399, 451)   0.100828\n",
       "\n",
       "[303 rows x 4 columns]"
      ]
     },
     "execution_count": 5,
     "metadata": {},
     "output_type": "execute_result"
    }
   ],
   "source": [
    "summary = session.summary()\n",
    "summary"
   ]
  },
  {
   "cell_type": "code",
   "execution_count": 6,
   "id": "177bf2f6-c54b-4dbb-a1e7-bd4ede479fb8",
   "metadata": {
    "tags": []
   },
   "outputs": [],
   "source": [
    "import matplotlib.pyplot as plt"
   ]
  },
  {
   "cell_type": "code",
   "execution_count": 7,
   "id": "e24226d9-07e8-4ec2-a27f-cadc3ce4c6c4",
   "metadata": {
    "tags": []
   },
   "outputs": [
    {
     "data": {
      "image/png": "[encoded data removed]",
      "text/plain": [
       "<Figure size 640x480 with 1 Axes>"
      ]
     },
     "metadata": {},
     "output_type": "display_data"
    }
   ],
   "source": [
    "n = summary[['score', 'iteration']].groupby('iteration').max().plot()\n",
    "best = [max(summary[summary['iteration']<=i]['score']) for i in range(n_iter+1)]\n",
    "p = plt.plot(best)\n",
    "plt.savefig('hptune.png')"
   ]
  },
  {
   "cell_type": "code",
   "execution_count": 12,
   "id": "6edcb92e-0a1c-44e9-8498-17b42ab8bb95",
   "metadata": {
    "tags": []
   },
   "outputs": [
    {
     "name": "stdout",
     "output_type": "stream",
     "text": [
      "[neptune] [info   ] Neptune initialized. Open in the app: https://app.neptune.ai/mshipman/HPTune/e/HPTUN-12\n",
      "[neptune] [info   ] Shutting down background jobs, please wait a moment...\n",
      "[neptune] [info   ] Done!\n",
      "[neptune] [info   ] Waiting for the remaining 14 operations to synchronize with Neptune. Do not kill this process.\n",
      "[neptune] [info   ] All 14 operations synced, thanks for waiting!\n",
      "[neptune] [info   ] Explore the metadata in the Neptune app: https://app.neptune.ai/mshipman/HPTune/e/HPTUN-12/metadata\n"
     ]
    }
   ],
   "source": [
    "import neptune\n",
    "run = neptune.init_run(\n",
    "    project=\"mshipman/HPTune\",\n",
    "    api_token=\"eyJhcGlfYWRkcmVzcyI6Imh0dHBzOi8vYXBwLm5lcHR1bmUuYWkiLCJhcGlfdXJsIjoiaHR0cHM6Ly9hcHAubmVwdHVuZS5haSIsImFwaV9rZXkiOiIzNzhiNTgwMC05MDAzLTQ4NTQtOTk1NC04YWFlN2JkMDg4NWEifQ==\",\n",
    ")\n",
    "\n",
    "summary.to_csv(\"summary.csv\", index=False)\n",
    "run[\"summary/score_history.csv\"].upload(\"summary.csv\")\n",
    "\n",
    "params = {\"limits\": '('+') ('.join([\"{},{}\".format(x[0], x[1]) for x in hp_ranges])+')', \n",
    "          \"gpr_batch_size\": gbatch_size,\n",
    "          \"n_gpr_processors\": g_procs, \"n_processors\": n_procs,\n",
    "          \"n_iterations\": n_iter, \"other_parameters\": oparameters}\n",
    "run[\"parameters\"] = params\n",
    "run[\"summary/best_by_iteration.png\"].upload(\"hptune.png\")\n",
    "run['historical/best'] = ','.join([str(x) for x in best])\n",
    "run[\"log\"].upload(logfile_name)\n",
    "run.stop()\n"
   ]
  },
  {
   "cell_type": "code",
   "execution_count": null,
   "id": "86829562-37da-4ff7-82d0-b4f04c6270aa",
   "metadata": {},
   "outputs": [],
   "source": []
  }
 ],
 "metadata": {
  "kernelspec": {
   "display_name": "conda_pytorch_p310",
   "language": "python",
   "name": "conda_pytorch_p310"
  },
  "language_info": {
   "codemirror_mode": {
    "name": "ipython",
    "version": 3
   },
   "file_extension": ".py",
   "mimetype": "text/x-python",
   "name": "python",
   "nbconvert_exporter": "python",
   "pygments_lexer": "ipython3",
   "version": "3.10.14"
  }
 },
 "nbformat": 4,
 "nbformat_minor": 5
}
