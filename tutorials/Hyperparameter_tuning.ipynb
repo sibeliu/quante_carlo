{
 "cells": [
  {
   "cell_type": "markdown",
   "id": "1cd8bd7c-5d33-46cd-b5ab-24c902bd1734",
   "metadata": {
    "tags": []
   },
   "source": [
    "# Tutorial for using quante_carlo for hyperparameter tuning\n",
    "quante_carlo is a hyperparameter tuning module that has integrated multiprocessing support\n",
    "It is able to use cpu or gpu.\n",
    "The algorithm for hp tuning is Bayesian Optimization and with a <a href=\"https://scikit-learn.org/stable/modules/gaussian_process.html\">gaussian process regressor</a>."
   ]
  },
  {
   "cell_type": "markdown",
   "id": "2bc214d0-5a67-4129-999c-bfe8565a230f",
   "metadata": {},
   "source": [
    "### Parameters\n",
    "quante.carlo(f, limits, kernel, n_batches, n_processors, n_iterations, keep_thread_id=False)\n",
    "- <b>f </b> evaluation function\n",
    "- <b>limits</b>list of parameter ranges\n",
    "- <b>kernel</b>\n",
    "- <b>n_batches</b>  number of batches to use when\n",
    "- <b>n_processors</b> number of processors; should align with actual hardware\n",
    "- <b>n_iterations</b> number of iterations to run"
   ]
  },
  {
   "cell_type": "markdown",
   "id": "5e6e0d98-1623-42d2-baf9-26b63630dae5",
   "metadata": {},
   "source": [
    "## Load the module and then tune Sci-kit's Multi-Layer Perceptron and Logistic Regression"
   ]
  },
  {
   "cell_type": "code",
   "execution_count": null,
   "id": "1b64d67a-1e85-4c01-8d5b-b779f035da5c",
   "metadata": {},
   "outputs": [],
   "source": [
    "from sklearn.neural_network import MLPClassifier\n",
    "from sklearn.linear_model import LogisticRegression\n",
    "\n",
    "from sklearn.model_selection import cross_val_score\n",
    "import matplotlib.pyplot as plt\n",
    "import pickle\n",
    "import multiprocessing as mp\n",
    "import pandas as pd\n",
    "from sklearn import datasets\n",
    "from quante_carlo import quante\n",
    "from sklearn.gaussian_process.kernels import DotProduct, WhiteKernel, RBF, Matern\n",
    "import time\n",
    "import warnings\n",
    "import numpy as np"
   ]
  },
  {
   "cell_type": "markdown",
   "id": "a15ce0e7-91c0-4c0c-83e4-c963c840e6cf",
   "metadata": {},
   "source": [
    "### Iris dataset\n",
    "Convert data to files\n",
    "When multiprocessing, it's better for each process to read the data by itself. There's less IPC, less blocking.\n",
    "This code writes the dataset to a file in this directory"
   ]
  },
  {
   "cell_type": "code",
   "execution_count": null,
   "id": "3e717911-c4ee-4c29-8187-88a52aacd03d",
   "metadata": {},
   "outputs": [],
   "source": [
    "iris = datasets.load_iris()\n",
    "pd.DataFrame(iris.data).to_csv('X.csv', index=False)\n",
    "with open('y.csv', 'w') as f:\n",
    "    f.write(','.join([str(x) for x in iris.target]))"
   ]
  },
  {
   "cell_type": "markdown",
   "id": "2aba0a9c-e717-461b-9b4a-d56a37bd29c8",
   "metadata": {},
   "source": [
    "## User Define Valutation Wrapper for MLPClassifier\n",
    "- notice that the input is the valution function is a list; the parameters are then placed into the MLPClassifier constructor\n",
    "- multiprocessing works best when in main"
   ]
  },
  {
   "cell_type": "code",
   "execution_count": null,
   "id": "3b38de09-d4a5-4e62-b21e-1b87909244d7",
   "metadata": {},
   "outputs": [],
   "source": [
    "if __name__ == '__main__':\n",
    "    \n",
    "    def instance(arch):\n",
    "    \n",
    "        X = pd.read_csv('X.csv')\n",
    "        with open('y.csv') as f:\n",
    "            y = f.read().split(',')\n",
    "            \n",
    "        clf = MLPClassifier(solver='sgd', max_iter=500,\n",
    "                        hidden_layer_sizes=arch[:3], alpha=arch[3], random_state=1)\n",
    "        with warnings.catch_warnings():\n",
    "            warnings.simplefilter('ignore') # convergence warning\n",
    "            cvs = cross_val_score(clf, X, y)\n",
    "        return cvs\n",
    "            \n",
    "    hp_tune = quante.carlo(instance, [[2, 16], [2, 4], [2, 16], [.01, .99]], kernel=DotProduct()+ WhiteKernel(), \n",
    "                           n_batches=100, n_processors=4, n_iterations=5)\n",
    "    \n",
    "    p = mp.Pool()\n",
    "    start = time.time()\n",
    "    \n",
    "    session = hp_tune(p)\n",
    "    print(\"{} seconds\".format(round(time.time() - start,2)))\n",
    "    p.close()\n",
    "\n",
    "\n"
   ]
  },
  {
   "cell_type": "code",
   "execution_count": null,
   "id": "fe709758-2937-4306-879a-7c3cedd64b06",
   "metadata": {},
   "outputs": [],
   "source": [
    "summary = session.summary()\n",
    "summary.head()"
   ]
  },
  {
   "cell_type": "code",
   "execution_count": null,
   "id": "ebc9e244-30f9-4cef-89be-577266fda4b2",
   "metadata": {},
   "outputs": [],
   "source": [
    "n = summary[['score', 'iteration']].groupby('iteration').mean().plot()"
   ]
  },
  {
   "cell_type": "markdown",
   "id": "1871b246-81eb-401d-b0cf-2b8d9589726d",
   "metadata": {},
   "source": [
    "## Box and Whiskers plot\n",
    "round alpha so that it prints a little better on the x-axis"
   ]
  },
  {
   "cell_type": "code",
   "execution_count": null,
   "id": "1a462130-9b81-44c1-afef-d92f86a7ce62",
   "metadata": {},
   "outputs": [],
   "source": [
    "rounded_alpha =  [x[:3]+(round(x[3],3),) for x in summary['layers']]\n",
    "fig = plt.figure(figsize =(12, 6))\n",
    "ax = fig.add_subplot(111)\n",
    "ax.boxplot(session.score_history)\n",
    "ax.set_xticklabels(rounded_alpha)\n",
    "plt.xticks(rotation=60)\n",
    "bx = plt.show\n"
   ]
  },
  {
   "cell_type": "markdown",
   "id": "af4e4035-5b76-4361-ac9b-668336437734",
   "metadata": {},
   "source": [
    "## Example using Logistic Regression"
   ]
  },
  {
   "cell_type": "code",
   "execution_count": null,
   "id": "96158d44-10ef-4ad9-b714-82e2e81e5855",
   "metadata": {},
   "outputs": [],
   "source": [
    "if __name__ == '__main__':\n",
    "    \n",
    "    def instance(hp_parameter):\n",
    "    \n",
    "        X = pd.read_csv('X.csv')\n",
    "        with open('y.csv') as f:\n",
    "            y = f.read().split(',')\n",
    "            \n",
    "        clf = LogisticRegression(solver='saga', penalty = 'elasticnet', l1_ratio=hp_parameter[0], max_iter=200 )\n",
    "        with warnings.catch_warnings():\n",
    "            warnings.simplefilter('ignore')\n",
    "            cvs = cross_val_score(clf, X, y)\n",
    "        \n",
    "        return cvs\n",
    "        \n",
    "    \n",
    "    hp_tune = quante.carlo(instance, [[.05, .95]], kernel=DotProduct()+ WhiteKernel(), n_batches=7, n_processors=4, n_iterations=5)\n",
    "    p = mp.Pool()\n",
    "    start = time.time()\n",
    "    \n",
    "    session = hp_tune(p)\n",
    "    print(\"{} seconds\".format(round(time.time() - start,2)))\n",
    "    p.close()\n"
   ]
  },
  {
   "cell_type": "code",
   "execution_count": null,
   "id": "a3a3704a-a948-49f4-9474-5a3a3747eac5",
   "metadata": {},
   "outputs": [],
   "source": []
  }
 ],
 "metadata": {
  "kernelspec": {
   "display_name": "base-venv",
   "language": "python",
   "name": "base-venv"
  },
  "language_info": {
   "codemirror_mode": {
    "name": "ipython",
    "version": 3
   },
   "file_extension": ".py",
   "mimetype": "text/x-python",
   "name": "python",
   "nbconvert_exporter": "python",
   "pygments_lexer": "ipython3",
   "version": "3.9.18"
  }
 },
 "nbformat": 4,
 "nbformat_minor": 5
}
