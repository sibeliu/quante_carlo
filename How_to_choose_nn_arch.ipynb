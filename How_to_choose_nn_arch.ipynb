{
 "cells": [
  {
   "cell_type": "code",
   "execution_count": null,
   "id": "e96776a9-0fdb-4d11-9d77-39c03c1c5644",
   "metadata": {},
   "outputs": [],
   "source": [
    "import random\n",
    "#from sklearn.neural_network import MLPReressor\n",
    "from sklearn.neural_network import MLPClassifier\n",
    "from sklearn.model_selection import cross_val_score\n",
    "import matplotlib.pyplot as plt\n",
    "import pickle\n",
    "import multiprocessing as mp"
   ]
  },
  {
   "cell_type": "code",
   "execution_count": null,
   "id": "3e717911-c4ee-4c29-8187-88a52aacd03d",
   "metadata": {},
   "outputs": [],
   "source": [
    "from sklearn import datasets\n",
    "\n",
    "iris = datasets.load_iris()"
   ]
  },
  {
   "cell_type": "code",
   "execution_count": null,
   "id": "96ef9dbe-b4d8-44b3-bb08-6adfb663de48",
   "metadata": {},
   "outputs": [],
   "source": [
    "\n",
    "\n",
    "\n",
    "def tune(limits):   # parameterize the decorator\n",
    "    def _tune_(f):  # the actual decorator: func -> func\n",
    "        def _h_tune_(X, y):\n",
    "            scores = []\n",
    "            archs = []\n",
    "            for a in range(limits[0][0], limits[0][1]):\n",
    "                for b in range(limits[1][0], limits[1][1]):\n",
    "                    archs.append((a, b))\n",
    "                    scores.append(f(X, y, (a, b)))\n",
    "            return scores, archs\n",
    "        return _h_tune_\n",
    "    return _tune_\n",
    "    \n"
   ]
  },
  {
   "cell_type": "code",
   "execution_count": null,
   "id": "3b38de09-d4a5-4e62-b21e-1b87909244d7",
   "metadata": {},
   "outputs": [],
   "source": [
    "if __name__ == '__main__':\n",
    "    \n",
    "    @tune([[2, 8], [2, 4]])\n",
    "    def instance(X, y, arch):\n",
    "        clf = MLPClassifier(solver='lbfgs', alpha=1e-5,\n",
    "                            hidden_layer_sizes=arch, random_state=1)\n",
    "        return cross_val_score(clf, X, y)\n",
    "        \n",
    "    def wrapper(X_y):\n",
    "        return worker([X_y[0], X_y[1]])\n",
    "        \n",
    "    p = mp.Pool()\n",
    "    output = p.map_async(wrapper, [[iris.data, iris.target], [iris.data, iris.target]])\n",
    "    p.close()\n",
    "    p.join()\n",
    "    \n",
    "    for a in output._value:\n",
    "        print(a[0])\n",
    "\n",
    "\n",
    "\n"
   ]
  },
  {
   "cell_type": "code",
   "execution_count": null,
   "id": "43efd293-6460-496f-912f-08cc81c39d75",
   "metadata": {},
   "outputs": [],
   "source": [
    "score, arch = instance([iris.data, iris.target])"
   ]
  },
  {
   "cell_type": "code",
   "execution_count": null,
   "id": "1a462130-9b81-44c1-afef-d92f86a7ce62",
   "metadata": {},
   "outputs": [],
   "source": [
    "fig = plt.figure(figsize =(10, 7))\n",
    "ax = fig.add_subplot(111)\n",
    "ax.boxplot(score)\n",
    "ax.set_xticklabels(arch)\n",
    "bx = plt.show"
   ]
  },
  {
   "cell_type": "code",
   "execution_count": null,
   "id": "96158d44-10ef-4ad9-b714-82e2e81e5855",
   "metadata": {},
   "outputs": [],
   "source": []
  }
 ],
 "metadata": {
  "kernelspec": {
   "display_name": "pytorch",
   "language": "python",
   "name": "pytorch"
  },
  "language_info": {
   "codemirror_mode": {
    "name": "ipython",
    "version": 3
   },
   "file_extension": ".py",
   "mimetype": "text/x-python",
   "name": "python",
   "nbconvert_exporter": "python",
   "pygments_lexer": "ipython3",
   "version": "3.12.1"
  }
 },
 "nbformat": 4,
 "nbformat_minor": 5
}
