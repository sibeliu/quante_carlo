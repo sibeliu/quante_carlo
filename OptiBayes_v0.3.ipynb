{
 "cells": [
  {
   "cell_type": "code",
   "execution_count": 2,
   "id": "0d258f94-320a-4c87-9c51-4d5efff2a05e",
   "metadata": {
    "tags": []
   },
   "outputs": [],
   "source": [
    "from sklearn.neural_network import MLPClassifier\n",
    "import pandas as pd\n",
    "from sklearn.neural_network import MLPRegressor\n",
    "from sklearn.datasets import make_regression\n",
    "from sklearn.impute import SimpleImputer\n",
    "import numpy as np\n",
    "from sklearn.model_selection import train_test_split\n",
    "import xgboost\n",
    "import matplotlib.pyplot as plt\n",
    "from sklearn.linear_model import LinearRegression, ElasticNet\n",
    "from sklearn.svm import SVR\n",
    "from sklearn.tree import DecisionTreeRegressor\n",
    "from sklearn.gaussian_process import GaussianProcessRegressor \n",
    "from sklearn.gaussian_process.kernels import DotProduct, WhiteKernel, RBF, Matern\n",
    "from scipy.stats import norm\n",
    "import random\n",
    "from scipy.stats import multivariate_normal\n",
    "from multiprocessing import Pool\n",
    "import workers\n",
    "import time\n",
    "import itertools\n",
    "from math import comb\n",
    "import warnings\n",
    "import matplotlib.pyplot as plt \n",
    "warnings.filterwarnings(\"ignore\")"
   ]
  },
  {
   "cell_type": "code",
   "execution_count": 3,
   "id": "02c79c65-a959-4aed-9656-c26f6bf4af32",
   "metadata": {
    "tags": []
   },
   "outputs": [],
   "source": [
    "train = pd.read_csv('train.csv')\n",
    "test = pd.read_csv('test.csv')"
   ]
  },
  {
   "cell_type": "code",
   "execution_count": 4,
   "id": "6790b345-ae2a-445c-a895-d1c36287f838",
   "metadata": {
    "tags": []
   },
   "outputs": [],
   "source": [
    "predictors = [c for c in train.columns if c not in ['FloodProbability', 'id']]"
   ]
  },
  {
   "cell_type": "code",
   "execution_count": 5,
   "id": "d7bc9935-e41c-4181-82c3-b398a11835dc",
   "metadata": {
    "tags": []
   },
   "outputs": [],
   "source": [
    "imp_mean = SimpleImputer(missing_values=np.nan, strategy='mean')\n",
    "train_drop_y_na = train[~(train['FloodProbability'].isna())]\n",
    "imp_mean.fit(train_drop_y_na[predictors])\n",
    "train_imputed = pd.DataFrame(imp_mean.transform(train_drop_y_na[predictors]))\n",
    "train_imputed.columns = predictors"
   ]
  },
  {
   "cell_type": "code",
   "execution_count": 6,
   "id": "038f6025-6648-401c-8e77-4ebcbdbea5bf",
   "metadata": {
    "tags": []
   },
   "outputs": [],
   "source": [
    "X_train, X_test, y_train, y_test = train_test_split(train_imputed, train_drop_y_na['FloodProbability'], \n",
    "                                                    test_size=0.33, random_state=42)"
   ]
  },
  {
   "cell_type": "code",
   "execution_count": 7,
   "id": "a9f169e2-55c4-4fa7-a0d7-94ef358a8214",
   "metadata": {
    "tags": []
   },
   "outputs": [],
   "source": [
    "def r2(p, y_test):\n",
    "    mu = np.mean(y_test)\n",
    "    SSE = np.mean([(prediction-truth)**2 for prediction, truth in zip(p, y_test)])\n",
    "    SST = np.mean([(prediction-mu)**2 for prediction, truth in zip(p, y_test)])\n",
    "    return max(1-SSE/SST, -10)\n"
   ]
  },
  {
   "cell_type": "code",
   "execution_count": 8,
   "id": "7478543f-41c8-4f1d-9a05-81b637cedb62",
   "metadata": {},
   "outputs": [],
   "source": [
    "max_iterations = 300\n",
    "def nn(alpha, momentum, hidden_layer, X_train, y_train, X_test, y_test):\n",
    "    regr_sgd = MLPRegressor(random_state=1, max_iter=max_iterations, solver='sgd', \n",
    "                            hidden_layer_sizes = hidden_layer,\n",
    "                            alpha = alpha,\n",
    "                            learning_rate = 'adaptive',\n",
    "                            momentum=momentum, \n",
    "                            nesterovs_momentum = True).fit(X_train, y_train)\n",
    "    score = r2(regr_sgd.predict(X_test), y_test)\n",
    "    return score \n",
    "\n"
   ]
  },
  {
   "cell_type": "code",
   "execution_count": 9,
   "id": "bebc435d-11cd-428a-ba8c-1fc104bf6056",
   "metadata": {},
   "outputs": [],
   "source": [
    "kernel = DotProduct()+ WhiteKernel()\n",
    "N = 5000"
   ]
  },
  {
   "cell_type": "code",
   "execution_count": 10,
   "id": "c6e7e6d3-9990-4969-bf7b-50e75c0cb8a6",
   "metadata": {},
   "outputs": [],
   "source": [
    "#initialize with random points\n",
    "performance = []\n",
    "layers = [tuple([np.random.randint(14) * 4 + 2 for a in range(5)]) \n",
    "          for t in range(10)]\n",
    "for layer in layers:\n",
    "    performance.append(nn(.001, .95, layer, \n",
    "                          X_train[0:N], y_train[0:N], X_test, y_test) )"
   ]
  },
  {
   "cell_type": "code",
   "execution_count": 25,
   "id": "0de1d76e-9981-4f7a-a5d0-eb81ae36c052",
   "metadata": {},
   "outputs": [],
   "source": [
    "layers = layers[0:10]\n",
    "performance = performance[0:10]"
   ]
  },
  {
   "cell_type": "code",
   "execution_count": 26,
   "id": "dd56adf5-3cda-44de-b6de-a5d0cdc837e3",
   "metadata": {
    "tags": []
   },
   "outputs": [
    {
     "data": {
      "text/html": [
       "<div>\n",
       "<style scoped>\n",
       "    .dataframe tbody tr th:only-of-type {\n",
       "        vertical-align: middle;\n",
       "    }\n",
       "\n",
       "    .dataframe tbody tr th {\n",
       "        vertical-align: top;\n",
       "    }\n",
       "\n",
       "    .dataframe thead th {\n",
       "        text-align: right;\n",
       "    }\n",
       "</style>\n",
       "<table border=\"1\" class=\"dataframe\">\n",
       "  <thead>\n",
       "    <tr style=\"text-align: right;\">\n",
       "      <th></th>\n",
       "      <th>0</th>\n",
       "      <th>1</th>\n",
       "      <th>2</th>\n",
       "      <th>3</th>\n",
       "      <th>4</th>\n",
       "      <th>r2</th>\n",
       "    </tr>\n",
       "  </thead>\n",
       "  <tbody>\n",
       "    <tr>\n",
       "      <th>9</th>\n",
       "      <td>45</td>\n",
       "      <td>49</td>\n",
       "      <td>37</td>\n",
       "      <td>25</td>\n",
       "      <td>45</td>\n",
       "      <td>0.380730</td>\n",
       "    </tr>\n",
       "    <tr>\n",
       "      <th>7</th>\n",
       "      <td>41</td>\n",
       "      <td>5</td>\n",
       "      <td>21</td>\n",
       "      <td>45</td>\n",
       "      <td>53</td>\n",
       "      <td>-0.859337</td>\n",
       "    </tr>\n",
       "    <tr>\n",
       "      <th>4</th>\n",
       "      <td>25</td>\n",
       "      <td>5</td>\n",
       "      <td>33</td>\n",
       "      <td>33</td>\n",
       "      <td>21</td>\n",
       "      <td>-1.324143</td>\n",
       "    </tr>\n",
       "    <tr>\n",
       "      <th>3</th>\n",
       "      <td>13</td>\n",
       "      <td>49</td>\n",
       "      <td>25</td>\n",
       "      <td>5</td>\n",
       "      <td>53</td>\n",
       "      <td>-1.468136</td>\n",
       "    </tr>\n",
       "    <tr>\n",
       "      <th>8</th>\n",
       "      <td>9</td>\n",
       "      <td>13</td>\n",
       "      <td>53</td>\n",
       "      <td>45</td>\n",
       "      <td>53</td>\n",
       "      <td>-2.865812</td>\n",
       "    </tr>\n",
       "    <tr>\n",
       "      <th>0</th>\n",
       "      <td>5</td>\n",
       "      <td>33</td>\n",
       "      <td>29</td>\n",
       "      <td>49</td>\n",
       "      <td>25</td>\n",
       "      <td>-3.688175</td>\n",
       "    </tr>\n",
       "    <tr>\n",
       "      <th>1</th>\n",
       "      <td>9</td>\n",
       "      <td>1</td>\n",
       "      <td>13</td>\n",
       "      <td>45</td>\n",
       "      <td>37</td>\n",
       "      <td>-10.000000</td>\n",
       "    </tr>\n",
       "    <tr>\n",
       "      <th>2</th>\n",
       "      <td>21</td>\n",
       "      <td>49</td>\n",
       "      <td>49</td>\n",
       "      <td>37</td>\n",
       "      <td>5</td>\n",
       "      <td>-10.000000</td>\n",
       "    </tr>\n",
       "    <tr>\n",
       "      <th>5</th>\n",
       "      <td>1</td>\n",
       "      <td>25</td>\n",
       "      <td>21</td>\n",
       "      <td>41</td>\n",
       "      <td>33</td>\n",
       "      <td>-10.000000</td>\n",
       "    </tr>\n",
       "    <tr>\n",
       "      <th>6</th>\n",
       "      <td>1</td>\n",
       "      <td>41</td>\n",
       "      <td>25</td>\n",
       "      <td>45</td>\n",
       "      <td>49</td>\n",
       "      <td>-10.000000</td>\n",
       "    </tr>\n",
       "  </tbody>\n",
       "</table>\n",
       "</div>"
      ],
      "text/plain": [
       "    0   1   2   3   4         r2\n",
       "9  45  49  37  25  45   0.380730\n",
       "7  41   5  21  45  53  -0.859337\n",
       "4  25   5  33  33  21  -1.324143\n",
       "3  13  49  25   5  53  -1.468136\n",
       "8   9  13  53  45  53  -2.865812\n",
       "0   5  33  29  49  25  -3.688175\n",
       "1   9   1  13  45  37 -10.000000\n",
       "2  21  49  49  37   5 -10.000000\n",
       "5   1  25  21  41  33 -10.000000\n",
       "6   1  41  25  45  49 -10.000000"
      ]
     },
     "execution_count": 26,
     "metadata": {},
     "output_type": "execute_result"
    }
   ],
   "source": [
    "output_df = pd.DataFrame(layers)\n",
    "output_df['r2'] = performance\n",
    "output_df.sort_values('r2', ascending=False)"
   ]
  },
  {
   "cell_type": "code",
   "execution_count": 27,
   "id": "12d35104-cc9d-45c3-9a93-08ae3e61945b",
   "metadata": {
    "tags": []
   },
   "outputs": [],
   "source": [
    "iteration = [0] * len(performance)\n",
    "best_y = max(performance)"
   ]
  },
  {
   "cell_type": "code",
   "execution_count": 36,
   "id": "35aa5be8-a8ea-4ecf-8e28-3cc5a060614e",
   "metadata": {
    "scrolled": true
   },
   "outputs": [
    {
     "name": "stdout",
     "output_type": "stream",
     "text": [
      "Iteration: 50\n",
      "    train time 16.3317\n",
      "    r2: 0.199, points: (14, 14, 46, 50, 10)\n",
      "    r2: -0.529, points: (46, 14, 14, 26, 50)\n",
      "    r2: -10, points: (54, 30, 2, 46, 46)\n",
      "    r2: -1.355, points: (14, 42, 6, 30, 50)\n",
      "    r2: -0.142, points: (22, 38, 50, 14, 10)\n",
      "    r2: 0.186, points: (50, 50, 54, 26, 26)\n",
      "    r2: 0.549, points: (38, 22, 34, 26, 30)\n",
      "    r2: 0.345, points: (38, 46, 46, 38, 42)\n",
      "     first  second  third  fourth  fifth  performance  iteration\n",
      "89      37      49     17      53      5     0.588392         10\n",
      "96      45      45     53      49     53     0.577258         11\n",
      "122     45      41     17      53     13     0.576349         15\n",
      "228     45       9     29      53      9     0.574641         28\n",
      "408     38      22     34      26     30     0.549265         50\n",
      "    batch size 8000\n",
      "    optimize GP time 26.4957\n"
     ]
    }
   ],
   "source": [
    "BatchSize = 1000\n",
    "train_time = []\n",
    "krig_time = []\n",
    "bayes = True\n",
    "new_points = [tuple([np.random.randint(14) * 4 + 2 for a in range(5)]) for t in range(100)]\n",
    "if __name__ ==  '__main__': \n",
    "\n",
    "    num_processors = 8 \n",
    "    p = Pool(processes = num_processors)\n",
    "\n",
    "    for itrx in range(50, 51):\n",
    "        print(\"Iteration: \" + str(itrx))\n",
    "        next = random.sample(new_points, num_processors)\n",
    "        \n",
    "        start = time.time()\n",
    "        parameters = []\n",
    "        for layer in next:\n",
    "            parameters.append({'alpha': .001, 'momentum': .95, \"X_train\": X_train[0:N], \n",
    "                               \"y_train\": y_train[0:N],'max_iter': max_iterations,\n",
    "                               \"X_test\": X_test, \"y_test\": y_test, \"hidden_layer\": layer})\n",
    "        output = p.map(workers.nn,[i for i in parameters])\n",
    "        train_time.append(time.time()-start)\n",
    "        \n",
    "        print(\"    train time {}\".format(round(time.time()-start,4)))\n",
    "        \n",
    "        # add results of new points\n",
    "        for o in output:\n",
    "            # put 0 back in; kriging does use it\n",
    "            print(\"    r2: {}, points: {}\".format(round(o[0], 3), o[1]))\n",
    "            performance.append(o[0])\n",
    "            iteration.append(itrx)\n",
    "            if len(o[1]) < 5:\n",
    "                x = list(o[1])\n",
    "                x.append(0)\n",
    "                layers.append(tuple(x))\n",
    "            else:\n",
    "                layers.append(o[1])\n",
    "                \n",
    "        BO = pd.DataFrame(layers)\n",
    "        BO.columns = ['first', 'second', 'third', 'fourth', 'fifth']\n",
    "        BO['performance'] = performance\n",
    "        BO['iteration'] = iteration\n",
    "        \n",
    "        print(BO.sort_values('performance', ascending=False).head())\n",
    "        \n",
    "        gpr = GaussianProcessRegressor(kernel=kernel,random_state=0)\n",
    "        gpr.fit(layers, performance)\n",
    "        if bayes:\n",
    "            # optimize krig model\n",
    "            start = time.time()\n",
    "    \n",
    "#            next_points = [tuple([np.random.randint(10) * 5 + 1 for a in range(5)]) for t in range(BatchSize*num_processors)]\n",
    "            next_points = [tuple([np.random.randint(14) * 4 + 1 for a in range(5)]) for t in range(BatchSize*num_processors)]\n",
    "            print(\"    batch size {}\".format(len(next_points)))\n",
    "            mu, sigma = gpr.predict(next_points, return_cov=True)\n",
    "            #mu, sigma = OB.krig(next_points)\n",
    "    \n",
    "            qEI_batches = [] \n",
    "            for n in range(num_processors):    \n",
    "    \n",
    "                # create a batch for qEI to search through\n",
    "                # each row is a group from the \"master pool of groupings\"\n",
    "                # sub subprocess will check all the groupings in the batch\n",
    "                \n",
    "                B = []\n",
    "                for z in range(BatchSize):\n",
    "                    B.append(random.sample(range(len(next_points)), num_processors))\n",
    "#                B = [list(b) for b in next_points[(n*BatchSize):((n+1)*BatchSize)]]\n",
    "                qEI_batches.append({'new_points': B, \n",
    "                                    'y_best': best_y, 'qc': False,\n",
    "                                    'multivariate': True,\n",
    "                                    'q': num_processors, 'mu': mu, 'sigma': sigma}) \n",
    "    \n",
    "            output2 = p.map(workers.qEI,[i for i in qEI_batches])\n",
    "            krig_time.append(time.time()-start)\n",
    "            print(\"    optimize GP time {}\".format(round(time.time()-start,4)))\n",
    "            \n",
    "            #new_points =  [x[1] for x in output2]\n",
    "            top_points = pd.DataFrame(output2)\n",
    "            top_points.columns = ['score', 'points']\n",
    "            new_points = [next_points[x] for x in top_points.sort_values('score', ascending=False)['points'][0]]\n",
    "        else:\n",
    "            new_points = [tuple([np.random.randint(14) * 4 + 1 for a in range(5)]) for t in range(num_processors)]\n"
   ]
  },
  {
   "cell_type": "code",
   "execution_count": 29,
   "id": "88372fb7-7776-454a-a999-028f148deeff",
   "metadata": {},
   "outputs": [
    {
     "name": "stdout",
     "output_type": "stream",
     "text": [
      "     first  second  third  fourth  fifth  performance  iteration\n",
      "123     33      25     41      49      5     0.540476         15\n",
      "152     53      37     49      53     17     0.529491         18\n",
      "350     41      49     53      33     17     0.511923         43\n",
      "334     45      33     49      53     45     0.508269         41\n",
      "278     53      29     49      49     53     0.504277         34\n",
      "293     41      49     37      21     21     0.500995         36\n",
      "57      53      49     41      53     41     0.481186          6\n",
      "262     53      41     53      49     45     0.479276         32\n",
      "238     21      53     25      53     41     0.479243         29\n",
      "206     53      41     45      53     49     0.474355         25\n",
      "182     45      53     49      37     53     0.454034         22\n",
      "51      37      25     17      29     41     0.452636          6\n",
      "256     53      41     41      45     49     0.447770         31\n",
      "337     45      49     29      21     49     0.446188         41\n",
      "98      53      41     53      49     41     0.439987         12\n",
      "157     29      33     37      41      9     0.439008         19\n",
      "207     45      41     45      21     13     0.438727         25\n"
     ]
    }
   ],
   "source": [
    "print(BO.sort_values('performance', ascending=False)[5:22])"
   ]
  },
  {
   "cell_type": "code",
   "execution_count": 30,
   "id": "0ad4ec10-ebc7-4f61-aedc-dff436399d3d",
   "metadata": {},
   "outputs": [
    {
     "data": {
      "text/plain": [
       "<Axes: >"
      ]
     },
     "execution_count": 30,
     "metadata": {},
     "output_type": "execute_result"
    },
    {
     "data": {
      "image/png": "[encoded data removed]",
      "text/plain": [
       "<Figure size 640x480 with 1 Axes>"
      ]
     },
     "metadata": {},
     "output_type": "display_data"
    }
   ],
   "source": [
    "BO['performance'].hist()"
   ]
  },
  {
   "cell_type": "code",
   "execution_count": 31,
   "id": "a6ee8d5f-dc5a-4945-a016-4b1ca195da8b",
   "metadata": {
    "tags": []
   },
   "outputs": [
    {
     "data": {
      "text/plain": [
       "[<matplotlib.lines.Line2D at 0x23209876dd0>]"
      ]
     },
     "execution_count": 31,
     "metadata": {},
     "output_type": "execute_result"
    },
    {
     "data": {
      "image/png": "[encoded data removed]",
      "text/plain": [
       "<Figure size 640x480 with 1 Axes>"
      ]
     },
     "metadata": {},
     "output_type": "display_data"
    }
   ],
   "source": [
    "IxP = BO[['iteration', 'performance']].groupby(iteration).max()\n",
    "y = [p for p in IxP['performance'] if p > 0]\n",
    "x = [i for i,p in zip(IxP['iteration'], IxP['performance']) if p > 0]\n",
    "plt.plot(x, y)\n"
   ]
  },
  {
   "cell_type": "code",
   "execution_count": 32,
   "id": "45bb54e0-0d84-460f-9bae-eb6bfab3651b",
   "metadata": {},
   "outputs": [],
   "source": [
    "pd.DataFrame({'iteration': x, 'performance': y}).to_csv('iteration_performance_bayes.csv', index=False)"
   ]
  },
  {
   "cell_type": "code",
   "execution_count": 33,
   "id": "0e7d37bf-cd50-4b1d-8259-f23c7a60640f",
   "metadata": {},
   "outputs": [],
   "source": [
    "BO = pd.DataFrame(layers)\n",
    "BO.columns = ['first', 'second', 'third', 'fourth', 'fifth']\n",
    "BO['performance'] = performance\n",
    "BO['iteration'] = iteration"
   ]
  },
  {
   "cell_type": "code",
   "execution_count": 22,
   "id": "72387413-6a0f-4532-9121-615dbd8df174",
   "metadata": {},
   "outputs": [
    {
     "name": "stdout",
     "output_type": "stream",
     "text": [
      "       performance\n",
      "first             \n",
      "1       -10.000000\n",
      "5        -0.317453\n",
      "9        -1.043043\n",
      "13        0.384031\n",
      "17        0.444829\n",
      "21        0.480243\n",
      "25        0.557239\n",
      "29        0.461115\n",
      "33        0.414213\n",
      "37        0.562273\n",
      "41        0.210079\n",
      "45        0.483991\n",
      "49        0.499926\n",
      "53        0.552934\n",
      "        performance\n",
      "second             \n",
      "1         -0.171430\n",
      "5          0.482576\n",
      "9          0.450029\n",
      "13         0.443828\n",
      "17         0.444829\n",
      "21         0.387446\n",
      "25         0.411384\n",
      "29         0.404445\n",
      "33         0.471859\n",
      "37         0.461115\n",
      "41         0.562273\n",
      "45         0.534602\n",
      "49         0.499926\n",
      "53         0.557239\n",
      "       performance\n",
      "third             \n",
      "1        -3.336849\n",
      "5         0.225059\n",
      "9         0.557239\n",
      "13        0.450029\n",
      "17        0.434994\n",
      "21        0.562273\n",
      "25        0.444829\n",
      "29        0.480243\n",
      "33        0.483991\n",
      "37        0.380730\n",
      "41        0.534602\n",
      "45        0.471859\n",
      "49        0.237779\n",
      "53        0.499926\n",
      "        performance\n",
      "fourth             \n",
      "1          0.210079\n",
      "5          0.402013\n",
      "9          0.442216\n",
      "13         0.562273\n",
      "17         0.450029\n",
      "21         0.552934\n",
      "25         0.411384\n",
      "29         0.483991\n",
      "33         0.497893\n",
      "37         0.534602\n",
      "41         0.348066\n",
      "45         0.480243\n",
      "49         0.482576\n",
      "53         0.557239\n",
      "       performance\n",
      "fifth             \n",
      "1        -0.353883\n",
      "5         0.562273\n",
      "9         0.534602\n",
      "13        0.237779\n",
      "17        0.302547\n",
      "21        0.260516\n",
      "25        0.442216\n",
      "29        0.471859\n",
      "33        0.483991\n",
      "37        0.348066\n",
      "41        0.552934\n",
      "45        0.380730\n",
      "49        0.443828\n",
      "53        0.411384\n"
     ]
    }
   ],
   "source": [
    "for l in ['first', 'second', 'third', 'fourth', 'fifth']:\n",
    "    print(BO[[l, 'performance']].groupby(l).max())\n"
   ]
  },
  {
   "cell_type": "code",
   "execution_count": 34,
   "id": "82d9d407-5e23-4ae7-afd7-3b78a9e33bb1",
   "metadata": {},
   "outputs": [],
   "source": [
    "#random_BO = BO\n",
    "bayes_BO = BO"
   ]
  },
  {
   "cell_type": "code",
   "execution_count": 35,
   "id": "fd07fa01-6c3d-48b1-8634-75530c501661",
   "metadata": {},
   "outputs": [
    {
     "name": "stdout",
     "output_type": "stream",
     "text": [
      "4547.391566753387\n",
      "4287.691624164581\n"
     ]
    }
   ],
   "source": [
    "print(sum(train_time))\n",
    "print(sum(krig_time))"
   ]
  },
  {
   "cell_type": "code",
   "execution_count": 62,
   "id": "687559ab-d461-4d89-918b-3bac43d6d736",
   "metadata": {},
   "outputs": [
    {
     "ename": "NameError",
     "evalue": "name 'bayes_BO' is not defined",
     "output_type": "error",
     "traceback": [
      "\u001b[1;31m---------------------------------------------------------------------------\u001b[0m",
      "\u001b[1;31mNameError\u001b[0m                                 Traceback (most recent call last)",
      "Cell \u001b[1;32mIn[62], line 1\u001b[0m\n\u001b[1;32m----> 1\u001b[0m bayes_BO[bayes_BO[\u001b[38;5;124m'\u001b[39m\u001b[38;5;124miteration\u001b[39m\u001b[38;5;124m'\u001b[39m] \u001b[38;5;241m==\u001b[39m \u001b[38;5;241m0\u001b[39m]\n",
      "\u001b[1;31mNameError\u001b[0m: name 'bayes_BO' is not defined"
     ]
    }
   ],
   "source": [
    "#bayes_BO[bayes_BO['iteration'] == 0]"
   ]
  },
  {
   "cell_type": "code",
   "execution_count": null,
   "id": "66c770a6-6186-44cb-b1f1-0e7f2912be46",
   "metadata": {},
   "outputs": [],
   "source": []
  }
 ],
 "metadata": {
  "kernelspec": {
   "display_name": "Python 3 (ipykernel)",
   "language": "python",
   "name": "python3"
  },
  "language_info": {
   "codemirror_mode": {
    "name": "ipython",
    "version": 3
   },
   "file_extension": ".py",
   "mimetype": "text/x-python",
   "name": "python",
   "nbconvert_exporter": "python",
   "pygments_lexer": "ipython3",
   "version": "3.11.7"
  }
 },
 "nbformat": 4,
 "nbformat_minor": 5
}
